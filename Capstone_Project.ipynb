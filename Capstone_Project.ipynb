{
  "cells": [
    {
      "cell_type": "markdown",
      "metadata": {
        "id": "view-in-github",
        "colab_type": "text"
      },
      "source": [
        "<a href=\"https://colab.research.google.com/github/SyedMuraad/DataScienceCapstoneProject/blob/main/Capstone_Project.ipynb\" target=\"_parent\"><img src=\"https://colab.research.google.com/assets/colab-badge.svg\" alt=\"Open In Colab\"/></a>"
      ]
    },
    {
      "cell_type": "code",
      "execution_count": null,
      "id": "b0d98200",
      "metadata": {
        "id": "b0d98200"
      },
      "outputs": [],
      "source": [
        "import pandas as pd\n",
        "import numpy as np\n",
        "import matplotlib.pyplot as plt\n",
        "import seaborn as sns\n",
        "import warnings\n",
        "warnings.filterwarnings('ignore')"
      ]
    },
    {
      "cell_type": "code",
      "execution_count": null,
      "id": "0037773a",
      "metadata": {
        "id": "0037773a",
        "outputId": "6021fbc8-6f2c-4c0b-e741-8568b137df67"
      },
      "outputs": [
        {
          "data": {
            "text/html": [
              "<div>\n",
              "<style scoped>\n",
              "    .dataframe tbody tr th:only-of-type {\n",
              "        vertical-align: middle;\n",
              "    }\n",
              "\n",
              "    .dataframe tbody tr th {\n",
              "        vertical-align: top;\n",
              "    }\n",
              "\n",
              "    .dataframe thead th {\n",
              "        text-align: right;\n",
              "    }\n",
              "</style>\n",
              "<table border=\"1\" class=\"dataframe\">\n",
              "  <thead>\n",
              "    <tr style=\"text-align: right;\">\n",
              "      <th></th>\n",
              "      <th>name</th>\n",
              "      <th>year</th>\n",
              "      <th>selling_price</th>\n",
              "      <th>km_driven</th>\n",
              "      <th>fuel</th>\n",
              "      <th>seller_type</th>\n",
              "      <th>transmission</th>\n",
              "      <th>owner</th>\n",
              "    </tr>\n",
              "  </thead>\n",
              "  <tbody>\n",
              "    <tr>\n",
              "      <th>0</th>\n",
              "      <td>Maruti 800 AC</td>\n",
              "      <td>2007</td>\n",
              "      <td>60000</td>\n",
              "      <td>70000</td>\n",
              "      <td>Petrol</td>\n",
              "      <td>Individual</td>\n",
              "      <td>Manual</td>\n",
              "      <td>First Owner</td>\n",
              "    </tr>\n",
              "    <tr>\n",
              "      <th>1</th>\n",
              "      <td>Maruti Wagon R LXI Minor</td>\n",
              "      <td>2007</td>\n",
              "      <td>135000</td>\n",
              "      <td>50000</td>\n",
              "      <td>Petrol</td>\n",
              "      <td>Individual</td>\n",
              "      <td>Manual</td>\n",
              "      <td>First Owner</td>\n",
              "    </tr>\n",
              "    <tr>\n",
              "      <th>2</th>\n",
              "      <td>Hyundai Verna 1.6 SX</td>\n",
              "      <td>2012</td>\n",
              "      <td>600000</td>\n",
              "      <td>100000</td>\n",
              "      <td>Diesel</td>\n",
              "      <td>Individual</td>\n",
              "      <td>Manual</td>\n",
              "      <td>First Owner</td>\n",
              "    </tr>\n",
              "    <tr>\n",
              "      <th>3</th>\n",
              "      <td>Datsun RediGO T Option</td>\n",
              "      <td>2017</td>\n",
              "      <td>250000</td>\n",
              "      <td>46000</td>\n",
              "      <td>Petrol</td>\n",
              "      <td>Individual</td>\n",
              "      <td>Manual</td>\n",
              "      <td>First Owner</td>\n",
              "    </tr>\n",
              "    <tr>\n",
              "      <th>4</th>\n",
              "      <td>Honda Amaze VX i-DTEC</td>\n",
              "      <td>2014</td>\n",
              "      <td>450000</td>\n",
              "      <td>141000</td>\n",
              "      <td>Diesel</td>\n",
              "      <td>Individual</td>\n",
              "      <td>Manual</td>\n",
              "      <td>Second Owner</td>\n",
              "    </tr>\n",
              "  </tbody>\n",
              "</table>\n",
              "</div>"
            ],
            "text/plain": [
              "                       name  year  selling_price  km_driven    fuel  \\\n",
              "0             Maruti 800 AC  2007          60000      70000  Petrol   \n",
              "1  Maruti Wagon R LXI Minor  2007         135000      50000  Petrol   \n",
              "2      Hyundai Verna 1.6 SX  2012         600000     100000  Diesel   \n",
              "3    Datsun RediGO T Option  2017         250000      46000  Petrol   \n",
              "4     Honda Amaze VX i-DTEC  2014         450000     141000  Diesel   \n",
              "\n",
              "  seller_type transmission         owner  \n",
              "0  Individual       Manual   First Owner  \n",
              "1  Individual       Manual   First Owner  \n",
              "2  Individual       Manual   First Owner  \n",
              "3  Individual       Manual   First Owner  \n",
              "4  Individual       Manual  Second Owner  "
            ]
          },
          "execution_count": 2,
          "metadata": {},
          "output_type": "execute_result"
        }
      ],
      "source": [
        "df = pd.read_csv('CAR DETAILS.csv')\n",
        "df.head()"
      ]
    },
    {
      "cell_type": "code",
      "execution_count": null,
      "id": "81aa2a10",
      "metadata": {
        "id": "81aa2a10",
        "outputId": "36c1e6f7-49ae-4214-fa7d-ec5519c59ef9"
      },
      "outputs": [
        {
          "data": {
            "text/plain": [
              "Diesel      2153\n",
              "Petrol      2123\n",
              "CNG           40\n",
              "LPG           23\n",
              "Electric       1\n",
              "Name: fuel, dtype: int64"
            ]
          },
          "execution_count": 3,
          "metadata": {},
          "output_type": "execute_result"
        }
      ],
      "source": [
        "df['fuel'].value_counts()"
      ]
    },
    {
      "cell_type": "code",
      "execution_count": null,
      "id": "ed584c8e",
      "metadata": {
        "id": "ed584c8e",
        "outputId": "c4ca84a7-9e9e-4351-ac67-340b74bea422"
      },
      "outputs": [
        {
          "data": {
            "text/plain": [
              "Index(['name', 'year', 'selling_price', 'km_driven', 'fuel', 'seller_type',\n",
              "       'transmission', 'owner'],\n",
              "      dtype='object')"
            ]
          },
          "execution_count": 4,
          "metadata": {},
          "output_type": "execute_result"
        }
      ],
      "source": [
        "df.columns"
      ]
    },
    {
      "cell_type": "code",
      "execution_count": null,
      "id": "56d51587",
      "metadata": {
        "id": "56d51587",
        "outputId": "68afb5ae-0347-4376-a909-30872d233e5c"
      },
      "outputs": [
        {
          "data": {
            "text/plain": [
              "70000     236\n",
              "80000     228\n",
              "50000     222\n",
              "120000    220\n",
              "60000     215\n",
              "         ... \n",
              "19107       1\n",
              "32077       1\n",
              "6480        1\n",
              "118400      1\n",
              "112198      1\n",
              "Name: km_driven, Length: 770, dtype: int64"
            ]
          },
          "execution_count": 5,
          "metadata": {},
          "output_type": "execute_result"
        }
      ],
      "source": [
        "df['km_driven'].value_counts()"
      ]
    },
    {
      "cell_type": "code",
      "execution_count": null,
      "id": "ea8ded7d",
      "metadata": {
        "id": "ea8ded7d",
        "outputId": "c797fd29-7832-435d-9e6e-d8715c72a073"
      },
      "outputs": [
        {
          "data": {
            "text/plain": [
              "Individual          3244\n",
              "Dealer               994\n",
              "Trustmark Dealer     102\n",
              "Name: seller_type, dtype: int64"
            ]
          },
          "execution_count": 6,
          "metadata": {},
          "output_type": "execute_result"
        }
      ],
      "source": [
        "df['seller_type'].value_counts()"
      ]
    },
    {
      "cell_type": "code",
      "execution_count": null,
      "id": "ab46dda8",
      "metadata": {
        "id": "ab46dda8",
        "outputId": "ee41d615-a397-4854-d4c6-32973273c8d5"
      },
      "outputs": [
        {
          "data": {
            "text/plain": [
              "Maruti Swift Dzire VDI                     69\n",
              "Maruti Alto 800 LXI                        59\n",
              "Maruti Alto LXi                            47\n",
              "Maruti Alto LX                             35\n",
              "Hyundai EON Era Plus                       35\n",
              "                                           ..\n",
              "Hyundai Verna Transform CRDi VGT SX ABS     1\n",
              "Maruti S-Presso VXI Plus                    1\n",
              "Toyota Etios Liva 1.2 VX                    1\n",
              "Toyota Yaris G                              1\n",
              "Hyundai i20 Magna 1.4 CRDi                  1\n",
              "Name: name, Length: 1491, dtype: int64"
            ]
          },
          "execution_count": 7,
          "metadata": {},
          "output_type": "execute_result"
        }
      ],
      "source": [
        "df['name'].value_counts()"
      ]
    },
    {
      "cell_type": "code",
      "execution_count": null,
      "id": "59895353",
      "metadata": {
        "id": "59895353",
        "outputId": "b8b60904-dd6a-40fb-a279-e7a367d65458"
      },
      "outputs": [
        {
          "data": {
            "text/plain": [
              "300000     162\n",
              "250000     125\n",
              "350000     122\n",
              "550000     107\n",
              "600000     103\n",
              "          ... \n",
              "2100000      1\n",
              "828999       1\n",
              "1119000      1\n",
              "746000       1\n",
              "865000       1\n",
              "Name: selling_price, Length: 445, dtype: int64"
            ]
          },
          "execution_count": 8,
          "metadata": {},
          "output_type": "execute_result"
        }
      ],
      "source": [
        "df['selling_price'].value_counts()"
      ]
    },
    {
      "cell_type": "code",
      "execution_count": null,
      "id": "8ef29ace",
      "metadata": {
        "id": "8ef29ace",
        "outputId": "106404e9-fa1c-4211-9d5a-050123663aaf"
      },
      "outputs": [
        {
          "data": {
            "text/plain": [
              "First Owner             2832\n",
              "Second Owner            1106\n",
              "Third Owner              304\n",
              "Fourth & Above Owner      81\n",
              "Test Drive Car            17\n",
              "Name: owner, dtype: int64"
            ]
          },
          "execution_count": 8,
          "metadata": {},
          "output_type": "execute_result"
        }
      ],
      "source": [
        "df['owner'].value_counts()"
      ]
    },
    {
      "cell_type": "code",
      "execution_count": null,
      "id": "71475016",
      "metadata": {
        "id": "71475016",
        "outputId": "477d6542-327a-4b22-ea9c-b6d3799eebf6"
      },
      "outputs": [
        {
          "data": {
            "text/plain": [
              "Manual       3892\n",
              "Automatic     448\n",
              "Name: transmission, dtype: int64"
            ]
          },
          "execution_count": 9,
          "metadata": {},
          "output_type": "execute_result"
        }
      ],
      "source": [
        "df['transmission'].value_counts()"
      ]
    },
    {
      "cell_type": "code",
      "execution_count": null,
      "id": "9479b364",
      "metadata": {
        "id": "9479b364",
        "outputId": "5749547f-ee17-4c6b-c8cc-e387d9310c62"
      },
      "outputs": [
        {
          "data": {
            "text/plain": [
              "2017    466\n",
              "2015    421\n",
              "2012    415\n",
              "2013    386\n",
              "2014    367\n",
              "2018    366\n",
              "2016    357\n",
              "2011    271\n",
              "2010    234\n",
              "2019    195\n",
              "2009    193\n",
              "2008    145\n",
              "2007    134\n",
              "2006    110\n",
              "2005     85\n",
              "2020     48\n",
              "2004     42\n",
              "2003     23\n",
              "2002     21\n",
              "2001     20\n",
              "1998     12\n",
              "2000     12\n",
              "1999     10\n",
              "1997      3\n",
              "1996      2\n",
              "1995      1\n",
              "1992      1\n",
              "Name: year, dtype: int64"
            ]
          },
          "execution_count": 11,
          "metadata": {},
          "output_type": "execute_result"
        }
      ],
      "source": [
        "df['year'].value_counts()"
      ]
    },
    {
      "cell_type": "code",
      "execution_count": null,
      "id": "3aa50834",
      "metadata": {
        "id": "3aa50834",
        "outputId": "09fd4ca0-15d6-4b88-a04e-9a374b004d27"
      },
      "outputs": [
        {
          "data": {
            "text/plain": [
              "name             0\n",
              "year             0\n",
              "selling_price    0\n",
              "km_driven        0\n",
              "fuel             0\n",
              "seller_type      0\n",
              "transmission     0\n",
              "owner            0\n",
              "dtype: int64"
            ]
          },
          "execution_count": 10,
          "metadata": {},
          "output_type": "execute_result"
        }
      ],
      "source": [
        "df.isnull().sum()"
      ]
    },
    {
      "cell_type": "code",
      "execution_count": null,
      "id": "3d9fa6d5",
      "metadata": {
        "id": "3d9fa6d5",
        "outputId": "9a992e24-fdf4-4fb2-93dc-ad9f959a60d1"
      },
      "outputs": [
        {
          "data": {
            "text/plain": [
              "763"
            ]
          },
          "execution_count": 13,
          "metadata": {},
          "output_type": "execute_result"
        }
      ],
      "source": [
        "df.duplicated().sum()"
      ]
    },
    {
      "cell_type": "code",
      "execution_count": null,
      "id": "bb5d5a35",
      "metadata": {
        "id": "bb5d5a35",
        "outputId": "49e43bee-de1d-4d9c-d49d-de4877d0eb72"
      },
      "outputs": [
        {
          "data": {
            "image/png": "[encoded data removed]",
            "text/plain": [
              "<Figure size 640x480 with 1 Axes>"
            ]
          },
          "metadata": {},
          "output_type": "display_data"
        }
      ],
      "source": [
        "plt.scatter(x=df['fuel'],y=df['km_driven'])\n",
        "plt.title('FUEL ENGINE VS KM DRIVEN',color='blue')\n",
        "plt.show()"
      ]
    },
    {
      "cell_type": "markdown",
      "id": "f26af53a",
      "metadata": {
        "id": "f26af53a"
      },
      "source": [
        "## Conclusion\n",
        "1) Diesel and Petrol engine equipped vehicles have covered much distance as compared to the other variants(CNG,LPG and Electric)"
      ]
    },
    {
      "cell_type": "code",
      "execution_count": null,
      "id": "291f1c3e",
      "metadata": {
        "id": "291f1c3e",
        "outputId": "5276d1c5-abda-4e01-901d-ac0cb43224a3"
      },
      "outputs": [
        {
          "data": {
            "image/png": "[encoded data removed]",
            "text/plain": [
              "<Figure size 640x480 with 1 Axes>"
            ]
          },
          "metadata": {},
          "output_type": "display_data"
        }
      ],
      "source": [
        "sns.countplot(x=df['seller_type'])\n",
        "plt.show()"
      ]
    },
    {
      "cell_type": "markdown",
      "id": "544b1659",
      "metadata": {
        "id": "544b1659"
      },
      "source": [
        "## Conclusion\n",
        "1) Individual sellers are bulk in number than dealer type sellers and Trust Mark dealers."
      ]
    },
    {
      "cell_type": "code",
      "execution_count": null,
      "id": "4df5a047",
      "metadata": {
        "scrolled": true,
        "id": "4df5a047",
        "outputId": "9f1dd10a-adae-454a-cb78-fa990ebcb562"
      },
      "outputs": [
        {
          "data": {
            "image/png": "[encoded data removed]",
            "text/plain": [
              "<Figure size 500x500 with 1 Axes>"
            ]
          },
          "metadata": {},
          "output_type": "display_data"
        }
      ],
      "source": [
        "sns.displot(x=df['transmission'],color='red')\n",
        "plt.show()"
      ]
    },
    {
      "cell_type": "markdown",
      "id": "72addfbc",
      "metadata": {
        "id": "72addfbc"
      },
      "source": [
        "## Conclusion\n",
        "1) Manual transmission loaded vehicles outnumbers the Automatic transmission ones."
      ]
    },
    {
      "cell_type": "code",
      "execution_count": null,
      "id": "c8539759",
      "metadata": {
        "id": "c8539759",
        "outputId": "d19a58aa-922a-4798-ce38-b1c7e6f8df32"
      },
      "outputs": [
        {
          "data": {
            "image/png": "[encoded data removed]",
            "text/plain": [
              "<Figure size 640x480 with 1 Axes>"
            ]
          },
          "metadata": {},
          "output_type": "display_data"
        }
      ],
      "source": [
        "sns.boxplot(x=df['year'],y=df['selling_price'])\n",
        "plt.xticks(rotation=90)\n",
        "plt.show()"
      ]
    },
    {
      "cell_type": "markdown",
      "id": "9478c598",
      "metadata": {
        "id": "9478c598"
      },
      "source": [
        "## Conclusion\n",
        "1)There is an increasing trend over the years with respect to selling price owing to the new and innovative features"
      ]
    },
    {
      "cell_type": "code",
      "execution_count": null,
      "id": "052ea9bb",
      "metadata": {
        "id": "052ea9bb",
        "outputId": "d185f4e1-0b40-4b96-d4b9-c8bbf20ce047"
      },
      "outputs": [
        {
          "data": {
            "text/plain": [
              "name             1491\n",
              "year               27\n",
              "selling_price     445\n",
              "km_driven         770\n",
              "fuel                5\n",
              "seller_type         3\n",
              "transmission        2\n",
              "owner               5\n",
              "dtype: int64"
            ]
          },
          "execution_count": 15,
          "metadata": {},
          "output_type": "execute_result"
        }
      ],
      "source": [
        "df.nunique()"
      ]
    },
    {
      "cell_type": "code",
      "execution_count": null,
      "id": "1a5d0bce",
      "metadata": {
        "id": "1a5d0bce",
        "outputId": "c247732a-c48b-4c9c-c1a9-89ac6ab71f6d"
      },
      "outputs": [
        {
          "data": {
            "text/html": [
              "<div>\n",
              "<style scoped>\n",
              "    .dataframe tbody tr th:only-of-type {\n",
              "        vertical-align: middle;\n",
              "    }\n",
              "\n",
              "    .dataframe tbody tr th {\n",
              "        vertical-align: top;\n",
              "    }\n",
              "\n",
              "    .dataframe thead th {\n",
              "        text-align: right;\n",
              "    }\n",
              "</style>\n",
              "<table border=\"1\" class=\"dataframe\">\n",
              "  <thead>\n",
              "    <tr style=\"text-align: right;\">\n",
              "      <th></th>\n",
              "      <th>name</th>\n",
              "      <th>year</th>\n",
              "      <th>selling_price</th>\n",
              "      <th>km_driven</th>\n",
              "      <th>fuel</th>\n",
              "      <th>seller_type</th>\n",
              "      <th>transmission</th>\n",
              "      <th>owner</th>\n",
              "    </tr>\n",
              "  </thead>\n",
              "  <tbody>\n",
              "    <tr>\n",
              "      <th>0</th>\n",
              "      <td>Maruti 800 AC</td>\n",
              "      <td>2007</td>\n",
              "      <td>60000</td>\n",
              "      <td>70000</td>\n",
              "      <td>Petrol</td>\n",
              "      <td>Individual</td>\n",
              "      <td>Manual</td>\n",
              "      <td>First Owner</td>\n",
              "    </tr>\n",
              "    <tr>\n",
              "      <th>1</th>\n",
              "      <td>Maruti Wagon R LXI Minor</td>\n",
              "      <td>2007</td>\n",
              "      <td>135000</td>\n",
              "      <td>50000</td>\n",
              "      <td>Petrol</td>\n",
              "      <td>Individual</td>\n",
              "      <td>Manual</td>\n",
              "      <td>First Owner</td>\n",
              "    </tr>\n",
              "    <tr>\n",
              "      <th>2</th>\n",
              "      <td>Hyundai Verna 1.6 SX</td>\n",
              "      <td>2012</td>\n",
              "      <td>600000</td>\n",
              "      <td>100000</td>\n",
              "      <td>Diesel</td>\n",
              "      <td>Individual</td>\n",
              "      <td>Manual</td>\n",
              "      <td>First Owner</td>\n",
              "    </tr>\n",
              "    <tr>\n",
              "      <th>3</th>\n",
              "      <td>Datsun RediGO T Option</td>\n",
              "      <td>2017</td>\n",
              "      <td>250000</td>\n",
              "      <td>46000</td>\n",
              "      <td>Petrol</td>\n",
              "      <td>Individual</td>\n",
              "      <td>Manual</td>\n",
              "      <td>First Owner</td>\n",
              "    </tr>\n",
              "    <tr>\n",
              "      <th>4</th>\n",
              "      <td>Honda Amaze VX i-DTEC</td>\n",
              "      <td>2014</td>\n",
              "      <td>450000</td>\n",
              "      <td>141000</td>\n",
              "      <td>Diesel</td>\n",
              "      <td>Individual</td>\n",
              "      <td>Manual</td>\n",
              "      <td>Second Owner</td>\n",
              "    </tr>\n",
              "  </tbody>\n",
              "</table>\n",
              "</div>"
            ],
            "text/plain": [
              "                       name  year  selling_price  km_driven    fuel  \\\n",
              "0             Maruti 800 AC  2007          60000      70000  Petrol   \n",
              "1  Maruti Wagon R LXI Minor  2007         135000      50000  Petrol   \n",
              "2      Hyundai Verna 1.6 SX  2012         600000     100000  Diesel   \n",
              "3    Datsun RediGO T Option  2017         250000      46000  Petrol   \n",
              "4     Honda Amaze VX i-DTEC  2014         450000     141000  Diesel   \n",
              "\n",
              "  seller_type transmission         owner  \n",
              "0  Individual       Manual   First Owner  \n",
              "1  Individual       Manual   First Owner  \n",
              "2  Individual       Manual   First Owner  \n",
              "3  Individual       Manual   First Owner  \n",
              "4  Individual       Manual  Second Owner  "
            ]
          },
          "execution_count": 16,
          "metadata": {},
          "output_type": "execute_result"
        }
      ],
      "source": [
        "df.head()"
      ]
    },
    {
      "cell_type": "code",
      "execution_count": null,
      "id": "96c82d06",
      "metadata": {
        "id": "96c82d06",
        "outputId": "0bfc5016-bb4c-47dc-aa4c-d7c198951c67"
      },
      "outputs": [
        {
          "data": {
            "text/html": [
              "<div>\n",
              "<style scoped>\n",
              "    .dataframe tbody tr th:only-of-type {\n",
              "        vertical-align: middle;\n",
              "    }\n",
              "\n",
              "    .dataframe tbody tr th {\n",
              "        vertical-align: top;\n",
              "    }\n",
              "\n",
              "    .dataframe thead th {\n",
              "        text-align: right;\n",
              "    }\n",
              "</style>\n",
              "<table border=\"1\" class=\"dataframe\">\n",
              "  <thead>\n",
              "    <tr style=\"text-align: right;\">\n",
              "      <th></th>\n",
              "      <th>name</th>\n",
              "      <th>year</th>\n",
              "      <th>selling_price</th>\n",
              "      <th>km_driven</th>\n",
              "      <th>fuel</th>\n",
              "      <th>seller_type</th>\n",
              "      <th>transmission</th>\n",
              "      <th>owner</th>\n",
              "    </tr>\n",
              "  </thead>\n",
              "  <tbody>\n",
              "    <tr>\n",
              "      <th>0</th>\n",
              "      <td>Maruti 800 AC</td>\n",
              "      <td>2007</td>\n",
              "      <td>60000</td>\n",
              "      <td>70000</td>\n",
              "      <td>Petrol</td>\n",
              "      <td>Individual</td>\n",
              "      <td>Manual</td>\n",
              "      <td>First Owner</td>\n",
              "    </tr>\n",
              "    <tr>\n",
              "      <th>1</th>\n",
              "      <td>Maruti Wagon R LXI Minor</td>\n",
              "      <td>2007</td>\n",
              "      <td>135000</td>\n",
              "      <td>50000</td>\n",
              "      <td>Petrol</td>\n",
              "      <td>Individual</td>\n",
              "      <td>Manual</td>\n",
              "      <td>First Owner</td>\n",
              "    </tr>\n",
              "    <tr>\n",
              "      <th>2</th>\n",
              "      <td>Hyundai Verna 1.6 SX</td>\n",
              "      <td>2012</td>\n",
              "      <td>600000</td>\n",
              "      <td>100000</td>\n",
              "      <td>Diesel</td>\n",
              "      <td>Individual</td>\n",
              "      <td>Manual</td>\n",
              "      <td>First Owner</td>\n",
              "    </tr>\n",
              "    <tr>\n",
              "      <th>3</th>\n",
              "      <td>Datsun RediGO T Option</td>\n",
              "      <td>2017</td>\n",
              "      <td>250000</td>\n",
              "      <td>46000</td>\n",
              "      <td>Petrol</td>\n",
              "      <td>Individual</td>\n",
              "      <td>Manual</td>\n",
              "      <td>First Owner</td>\n",
              "    </tr>\n",
              "    <tr>\n",
              "      <th>4</th>\n",
              "      <td>Honda Amaze VX i-DTEC</td>\n",
              "      <td>2014</td>\n",
              "      <td>450000</td>\n",
              "      <td>141000</td>\n",
              "      <td>Diesel</td>\n",
              "      <td>Individual</td>\n",
              "      <td>Manual</td>\n",
              "      <td>Second Owner</td>\n",
              "    </tr>\n",
              "  </tbody>\n",
              "</table>\n",
              "</div>"
            ],
            "text/plain": [
              "                       name  year  selling_price  km_driven    fuel  \\\n",
              "0             Maruti 800 AC  2007          60000      70000  Petrol   \n",
              "1  Maruti Wagon R LXI Minor  2007         135000      50000  Petrol   \n",
              "2      Hyundai Verna 1.6 SX  2012         600000     100000  Diesel   \n",
              "3    Datsun RediGO T Option  2017         250000      46000  Petrol   \n",
              "4     Honda Amaze VX i-DTEC  2014         450000     141000  Diesel   \n",
              "\n",
              "  seller_type transmission         owner  \n",
              "0  Individual       Manual   First Owner  \n",
              "1  Individual       Manual   First Owner  \n",
              "2  Individual       Manual   First Owner  \n",
              "3  Individual       Manual   First Owner  \n",
              "4  Individual       Manual  Second Owner  "
            ]
          },
          "execution_count": 21,
          "metadata": {},
          "output_type": "execute_result"
        }
      ],
      "source": [
        "df.head()"
      ]
    },
    {
      "cell_type": "code",
      "execution_count": null,
      "id": "785a5e0d",
      "metadata": {
        "id": "785a5e0d"
      },
      "outputs": [],
      "source": [
        "df.drop(['year'],axis=1,inplace=True)"
      ]
    },
    {
      "cell_type": "code",
      "execution_count": null,
      "id": "7fa2ca24",
      "metadata": {
        "id": "7fa2ca24",
        "outputId": "86c30d64-a337-448d-c929-15a50eaeb9a8"
      },
      "outputs": [
        {
          "data": {
            "text/html": [
              "<div>\n",
              "<style scoped>\n",
              "    .dataframe tbody tr th:only-of-type {\n",
              "        vertical-align: middle;\n",
              "    }\n",
              "\n",
              "    .dataframe tbody tr th {\n",
              "        vertical-align: top;\n",
              "    }\n",
              "\n",
              "    .dataframe thead th {\n",
              "        text-align: right;\n",
              "    }\n",
              "</style>\n",
              "<table border=\"1\" class=\"dataframe\">\n",
              "  <thead>\n",
              "    <tr style=\"text-align: right;\">\n",
              "      <th></th>\n",
              "      <th>selling_price</th>\n",
              "      <th>km_driven</th>\n",
              "      <th>name_Ambassador Classic 2000 Dsz</th>\n",
              "      <th>name_Ambassador Grand 1800 ISZ MPFI PW CL</th>\n",
              "      <th>name_Audi A4 1.8 TFSI</th>\n",
              "      <th>name_Audi A4 2.0 TDI</th>\n",
              "      <th>name_Audi A4 2.0 TDI 177 Bhp Premium Plus</th>\n",
              "      <th>name_Audi A4 3.0 TDI Quattro</th>\n",
              "      <th>name_Audi A4 30 TFSI Technology</th>\n",
              "      <th>name_Audi A4 35 TDI Premium</th>\n",
              "      <th>...</th>\n",
              "      <th>fuel_Electric</th>\n",
              "      <th>fuel_LPG</th>\n",
              "      <th>fuel_Petrol</th>\n",
              "      <th>seller_type_Individual</th>\n",
              "      <th>seller_type_Trustmark Dealer</th>\n",
              "      <th>transmission_Manual</th>\n",
              "      <th>owner_Fourth &amp; Above Owner</th>\n",
              "      <th>owner_Second Owner</th>\n",
              "      <th>owner_Test Drive Car</th>\n",
              "      <th>owner_Third Owner</th>\n",
              "    </tr>\n",
              "  </thead>\n",
              "  <tbody>\n",
              "    <tr>\n",
              "      <th>0</th>\n",
              "      <td>60000</td>\n",
              "      <td>70000</td>\n",
              "      <td>0</td>\n",
              "      <td>0</td>\n",
              "      <td>0</td>\n",
              "      <td>0</td>\n",
              "      <td>0</td>\n",
              "      <td>0</td>\n",
              "      <td>0</td>\n",
              "      <td>0</td>\n",
              "      <td>...</td>\n",
              "      <td>0</td>\n",
              "      <td>0</td>\n",
              "      <td>1</td>\n",
              "      <td>1</td>\n",
              "      <td>0</td>\n",
              "      <td>1</td>\n",
              "      <td>0</td>\n",
              "      <td>0</td>\n",
              "      <td>0</td>\n",
              "      <td>0</td>\n",
              "    </tr>\n",
              "    <tr>\n",
              "      <th>1</th>\n",
              "      <td>135000</td>\n",
              "      <td>50000</td>\n",
              "      <td>0</td>\n",
              "      <td>0</td>\n",
              "      <td>0</td>\n",
              "      <td>0</td>\n",
              "      <td>0</td>\n",
              "      <td>0</td>\n",
              "      <td>0</td>\n",
              "      <td>0</td>\n",
              "      <td>...</td>\n",
              "      <td>0</td>\n",
              "      <td>0</td>\n",
              "      <td>1</td>\n",
              "      <td>1</td>\n",
              "      <td>0</td>\n",
              "      <td>1</td>\n",
              "      <td>0</td>\n",
              "      <td>0</td>\n",
              "      <td>0</td>\n",
              "      <td>0</td>\n",
              "    </tr>\n",
              "    <tr>\n",
              "      <th>2</th>\n",
              "      <td>600000</td>\n",
              "      <td>100000</td>\n",
              "      <td>0</td>\n",
              "      <td>0</td>\n",
              "      <td>0</td>\n",
              "      <td>0</td>\n",
              "      <td>0</td>\n",
              "      <td>0</td>\n",
              "      <td>0</td>\n",
              "      <td>0</td>\n",
              "      <td>...</td>\n",
              "      <td>0</td>\n",
              "      <td>0</td>\n",
              "      <td>0</td>\n",
              "      <td>1</td>\n",
              "      <td>0</td>\n",
              "      <td>1</td>\n",
              "      <td>0</td>\n",
              "      <td>0</td>\n",
              "      <td>0</td>\n",
              "      <td>0</td>\n",
              "    </tr>\n",
              "    <tr>\n",
              "      <th>3</th>\n",
              "      <td>250000</td>\n",
              "      <td>46000</td>\n",
              "      <td>0</td>\n",
              "      <td>0</td>\n",
              "      <td>0</td>\n",
              "      <td>0</td>\n",
              "      <td>0</td>\n",
              "      <td>0</td>\n",
              "      <td>0</td>\n",
              "      <td>0</td>\n",
              "      <td>...</td>\n",
              "      <td>0</td>\n",
              "      <td>0</td>\n",
              "      <td>1</td>\n",
              "      <td>1</td>\n",
              "      <td>0</td>\n",
              "      <td>1</td>\n",
              "      <td>0</td>\n",
              "      <td>0</td>\n",
              "      <td>0</td>\n",
              "      <td>0</td>\n",
              "    </tr>\n",
              "    <tr>\n",
              "      <th>4</th>\n",
              "      <td>450000</td>\n",
              "      <td>141000</td>\n",
              "      <td>0</td>\n",
              "      <td>0</td>\n",
              "      <td>0</td>\n",
              "      <td>0</td>\n",
              "      <td>0</td>\n",
              "      <td>0</td>\n",
              "      <td>0</td>\n",
              "      <td>0</td>\n",
              "      <td>...</td>\n",
              "      <td>0</td>\n",
              "      <td>0</td>\n",
              "      <td>0</td>\n",
              "      <td>1</td>\n",
              "      <td>0</td>\n",
              "      <td>1</td>\n",
              "      <td>0</td>\n",
              "      <td>1</td>\n",
              "      <td>0</td>\n",
              "      <td>0</td>\n",
              "    </tr>\n",
              "  </tbody>\n",
              "</table>\n",
              "<p>5 rows × 1503 columns</p>\n",
              "</div>"
            ],
            "text/plain": [
              "   selling_price  km_driven  name_Ambassador Classic 2000 Dsz  \\\n",
              "0          60000      70000                                 0   \n",
              "1         135000      50000                                 0   \n",
              "2         600000     100000                                 0   \n",
              "3         250000      46000                                 0   \n",
              "4         450000     141000                                 0   \n",
              "\n",
              "   name_Ambassador Grand 1800 ISZ MPFI PW CL  name_Audi A4 1.8 TFSI  \\\n",
              "0                                          0                      0   \n",
              "1                                          0                      0   \n",
              "2                                          0                      0   \n",
              "3                                          0                      0   \n",
              "4                                          0                      0   \n",
              "\n",
              "   name_Audi A4 2.0 TDI  name_Audi A4 2.0 TDI 177 Bhp Premium Plus  \\\n",
              "0                     0                                          0   \n",
              "1                     0                                          0   \n",
              "2                     0                                          0   \n",
              "3                     0                                          0   \n",
              "4                     0                                          0   \n",
              "\n",
              "   name_Audi A4 3.0 TDI Quattro  name_Audi A4 30 TFSI Technology  \\\n",
              "0                             0                                0   \n",
              "1                             0                                0   \n",
              "2                             0                                0   \n",
              "3                             0                                0   \n",
              "4                             0                                0   \n",
              "\n",
              "   name_Audi A4 35 TDI Premium  ...  fuel_Electric  fuel_LPG  fuel_Petrol  \\\n",
              "0                            0  ...              0         0            1   \n",
              "1                            0  ...              0         0            1   \n",
              "2                            0  ...              0         0            0   \n",
              "3                            0  ...              0         0            1   \n",
              "4                            0  ...              0         0            0   \n",
              "\n",
              "   seller_type_Individual  seller_type_Trustmark Dealer  transmission_Manual  \\\n",
              "0                       1                             0                    1   \n",
              "1                       1                             0                    1   \n",
              "2                       1                             0                    1   \n",
              "3                       1                             0                    1   \n",
              "4                       1                             0                    1   \n",
              "\n",
              "   owner_Fourth & Above Owner  owner_Second Owner  owner_Test Drive Car  \\\n",
              "0                           0                   0                     0   \n",
              "1                           0                   0                     0   \n",
              "2                           0                   0                     0   \n",
              "3                           0                   0                     0   \n",
              "4                           0                   1                     0   \n",
              "\n",
              "   owner_Third Owner  \n",
              "0                  0  \n",
              "1                  0  \n",
              "2                  0  \n",
              "3                  0  \n",
              "4                  0  \n",
              "\n",
              "[5 rows x 1503 columns]"
            ]
          },
          "execution_count": 29,
          "metadata": {},
          "output_type": "execute_result"
        }
      ],
      "source": [
        "df.head()"
      ]
    },
    {
      "cell_type": "markdown",
      "id": "e0664048",
      "metadata": {
        "id": "e0664048"
      },
      "source": [
        "# One Hot Encoding"
      ]
    },
    {
      "cell_type": "code",
      "execution_count": null,
      "id": "78b3cd71",
      "metadata": {
        "id": "78b3cd71"
      },
      "outputs": [],
      "source": [
        "df = pd.get_dummies(df,drop_first=True)"
      ]
    },
    {
      "cell_type": "code",
      "execution_count": null,
      "id": "06f17cc2",
      "metadata": {
        "id": "06f17cc2",
        "outputId": "f6ff6a48-61f4-469a-a52d-77fe3eb0f5be"
      },
      "outputs": [
        {
          "data": {
            "text/html": [
              "<div>\n",
              "<style scoped>\n",
              "    .dataframe tbody tr th:only-of-type {\n",
              "        vertical-align: middle;\n",
              "    }\n",
              "\n",
              "    .dataframe tbody tr th {\n",
              "        vertical-align: top;\n",
              "    }\n",
              "\n",
              "    .dataframe thead th {\n",
              "        text-align: right;\n",
              "    }\n",
              "</style>\n",
              "<table border=\"1\" class=\"dataframe\">\n",
              "  <thead>\n",
              "    <tr style=\"text-align: right;\">\n",
              "      <th></th>\n",
              "      <th>selling_price</th>\n",
              "      <th>km_driven</th>\n",
              "      <th>name_Ambassador Classic 2000 Dsz</th>\n",
              "      <th>name_Ambassador Grand 1800 ISZ MPFI PW CL</th>\n",
              "      <th>name_Audi A4 1.8 TFSI</th>\n",
              "      <th>name_Audi A4 2.0 TDI</th>\n",
              "      <th>name_Audi A4 2.0 TDI 177 Bhp Premium Plus</th>\n",
              "      <th>name_Audi A4 3.0 TDI Quattro</th>\n",
              "      <th>name_Audi A4 30 TFSI Technology</th>\n",
              "      <th>name_Audi A4 35 TDI Premium</th>\n",
              "      <th>...</th>\n",
              "      <th>fuel_Electric</th>\n",
              "      <th>fuel_LPG</th>\n",
              "      <th>fuel_Petrol</th>\n",
              "      <th>seller_type_Individual</th>\n",
              "      <th>seller_type_Trustmark Dealer</th>\n",
              "      <th>transmission_Manual</th>\n",
              "      <th>owner_Fourth &amp; Above Owner</th>\n",
              "      <th>owner_Second Owner</th>\n",
              "      <th>owner_Test Drive Car</th>\n",
              "      <th>owner_Third Owner</th>\n",
              "    </tr>\n",
              "  </thead>\n",
              "  <tbody>\n",
              "    <tr>\n",
              "      <th>0</th>\n",
              "      <td>60000</td>\n",
              "      <td>70000</td>\n",
              "      <td>0</td>\n",
              "      <td>0</td>\n",
              "      <td>0</td>\n",
              "      <td>0</td>\n",
              "      <td>0</td>\n",
              "      <td>0</td>\n",
              "      <td>0</td>\n",
              "      <td>0</td>\n",
              "      <td>...</td>\n",
              "      <td>0</td>\n",
              "      <td>0</td>\n",
              "      <td>1</td>\n",
              "      <td>1</td>\n",
              "      <td>0</td>\n",
              "      <td>1</td>\n",
              "      <td>0</td>\n",
              "      <td>0</td>\n",
              "      <td>0</td>\n",
              "      <td>0</td>\n",
              "    </tr>\n",
              "    <tr>\n",
              "      <th>1</th>\n",
              "      <td>135000</td>\n",
              "      <td>50000</td>\n",
              "      <td>0</td>\n",
              "      <td>0</td>\n",
              "      <td>0</td>\n",
              "      <td>0</td>\n",
              "      <td>0</td>\n",
              "      <td>0</td>\n",
              "      <td>0</td>\n",
              "      <td>0</td>\n",
              "      <td>...</td>\n",
              "      <td>0</td>\n",
              "      <td>0</td>\n",
              "      <td>1</td>\n",
              "      <td>1</td>\n",
              "      <td>0</td>\n",
              "      <td>1</td>\n",
              "      <td>0</td>\n",
              "      <td>0</td>\n",
              "      <td>0</td>\n",
              "      <td>0</td>\n",
              "    </tr>\n",
              "    <tr>\n",
              "      <th>2</th>\n",
              "      <td>600000</td>\n",
              "      <td>100000</td>\n",
              "      <td>0</td>\n",
              "      <td>0</td>\n",
              "      <td>0</td>\n",
              "      <td>0</td>\n",
              "      <td>0</td>\n",
              "      <td>0</td>\n",
              "      <td>0</td>\n",
              "      <td>0</td>\n",
              "      <td>...</td>\n",
              "      <td>0</td>\n",
              "      <td>0</td>\n",
              "      <td>0</td>\n",
              "      <td>1</td>\n",
              "      <td>0</td>\n",
              "      <td>1</td>\n",
              "      <td>0</td>\n",
              "      <td>0</td>\n",
              "      <td>0</td>\n",
              "      <td>0</td>\n",
              "    </tr>\n",
              "    <tr>\n",
              "      <th>3</th>\n",
              "      <td>250000</td>\n",
              "      <td>46000</td>\n",
              "      <td>0</td>\n",
              "      <td>0</td>\n",
              "      <td>0</td>\n",
              "      <td>0</td>\n",
              "      <td>0</td>\n",
              "      <td>0</td>\n",
              "      <td>0</td>\n",
              "      <td>0</td>\n",
              "      <td>...</td>\n",
              "      <td>0</td>\n",
              "      <td>0</td>\n",
              "      <td>1</td>\n",
              "      <td>1</td>\n",
              "      <td>0</td>\n",
              "      <td>1</td>\n",
              "      <td>0</td>\n",
              "      <td>0</td>\n",
              "      <td>0</td>\n",
              "      <td>0</td>\n",
              "    </tr>\n",
              "    <tr>\n",
              "      <th>4</th>\n",
              "      <td>450000</td>\n",
              "      <td>141000</td>\n",
              "      <td>0</td>\n",
              "      <td>0</td>\n",
              "      <td>0</td>\n",
              "      <td>0</td>\n",
              "      <td>0</td>\n",
              "      <td>0</td>\n",
              "      <td>0</td>\n",
              "      <td>0</td>\n",
              "      <td>...</td>\n",
              "      <td>0</td>\n",
              "      <td>0</td>\n",
              "      <td>0</td>\n",
              "      <td>1</td>\n",
              "      <td>0</td>\n",
              "      <td>1</td>\n",
              "      <td>0</td>\n",
              "      <td>1</td>\n",
              "      <td>0</td>\n",
              "      <td>0</td>\n",
              "    </tr>\n",
              "  </tbody>\n",
              "</table>\n",
              "<p>5 rows × 1503 columns</p>\n",
              "</div>"
            ],
            "text/plain": [
              "   selling_price  km_driven  name_Ambassador Classic 2000 Dsz  \\\n",
              "0          60000      70000                                 0   \n",
              "1         135000      50000                                 0   \n",
              "2         600000     100000                                 0   \n",
              "3         250000      46000                                 0   \n",
              "4         450000     141000                                 0   \n",
              "\n",
              "   name_Ambassador Grand 1800 ISZ MPFI PW CL  name_Audi A4 1.8 TFSI  \\\n",
              "0                                          0                      0   \n",
              "1                                          0                      0   \n",
              "2                                          0                      0   \n",
              "3                                          0                      0   \n",
              "4                                          0                      0   \n",
              "\n",
              "   name_Audi A4 2.0 TDI  name_Audi A4 2.0 TDI 177 Bhp Premium Plus  \\\n",
              "0                     0                                          0   \n",
              "1                     0                                          0   \n",
              "2                     0                                          0   \n",
              "3                     0                                          0   \n",
              "4                     0                                          0   \n",
              "\n",
              "   name_Audi A4 3.0 TDI Quattro  name_Audi A4 30 TFSI Technology  \\\n",
              "0                             0                                0   \n",
              "1                             0                                0   \n",
              "2                             0                                0   \n",
              "3                             0                                0   \n",
              "4                             0                                0   \n",
              "\n",
              "   name_Audi A4 35 TDI Premium  ...  fuel_Electric  fuel_LPG  fuel_Petrol  \\\n",
              "0                            0  ...              0         0            1   \n",
              "1                            0  ...              0         0            1   \n",
              "2                            0  ...              0         0            0   \n",
              "3                            0  ...              0         0            1   \n",
              "4                            0  ...              0         0            0   \n",
              "\n",
              "   seller_type_Individual  seller_type_Trustmark Dealer  transmission_Manual  \\\n",
              "0                       1                             0                    1   \n",
              "1                       1                             0                    1   \n",
              "2                       1                             0                    1   \n",
              "3                       1                             0                    1   \n",
              "4                       1                             0                    1   \n",
              "\n",
              "   owner_Fourth & Above Owner  owner_Second Owner  owner_Test Drive Car  \\\n",
              "0                           0                   0                     0   \n",
              "1                           0                   0                     0   \n",
              "2                           0                   0                     0   \n",
              "3                           0                   0                     0   \n",
              "4                           0                   1                     0   \n",
              "\n",
              "   owner_Third Owner  \n",
              "0                  0  \n",
              "1                  0  \n",
              "2                  0  \n",
              "3                  0  \n",
              "4                  0  \n",
              "\n",
              "[5 rows x 1503 columns]"
            ]
          },
          "execution_count": 32,
          "metadata": {},
          "output_type": "execute_result"
        }
      ],
      "source": [
        "df.head()"
      ]
    },
    {
      "cell_type": "code",
      "execution_count": null,
      "id": "0454d645",
      "metadata": {
        "id": "0454d645",
        "outputId": "2e8734d2-b292-4605-c642-b3cd05801e15"
      },
      "outputs": [
        {
          "data": {
            "text/html": [
              "<div>\n",
              "<style scoped>\n",
              "    .dataframe tbody tr th:only-of-type {\n",
              "        vertical-align: middle;\n",
              "    }\n",
              "\n",
              "    .dataframe tbody tr th {\n",
              "        vertical-align: top;\n",
              "    }\n",
              "\n",
              "    .dataframe thead th {\n",
              "        text-align: right;\n",
              "    }\n",
              "</style>\n",
              "<table border=\"1\" class=\"dataframe\">\n",
              "  <thead>\n",
              "    <tr style=\"text-align: right;\">\n",
              "      <th></th>\n",
              "      <th>selling_price</th>\n",
              "      <th>km_driven</th>\n",
              "      <th>name_Ambassador Classic 2000 Dsz</th>\n",
              "      <th>name_Ambassador Grand 1800 ISZ MPFI PW CL</th>\n",
              "      <th>name_Audi A4 1.8 TFSI</th>\n",
              "      <th>name_Audi A4 2.0 TDI</th>\n",
              "      <th>name_Audi A4 2.0 TDI 177 Bhp Premium Plus</th>\n",
              "      <th>name_Audi A4 3.0 TDI Quattro</th>\n",
              "      <th>name_Audi A4 30 TFSI Technology</th>\n",
              "      <th>name_Audi A4 35 TDI Premium</th>\n",
              "      <th>...</th>\n",
              "      <th>fuel_Electric</th>\n",
              "      <th>fuel_LPG</th>\n",
              "      <th>fuel_Petrol</th>\n",
              "      <th>seller_type_Individual</th>\n",
              "      <th>seller_type_Trustmark Dealer</th>\n",
              "      <th>transmission_Manual</th>\n",
              "      <th>owner_Fourth &amp; Above Owner</th>\n",
              "      <th>owner_Second Owner</th>\n",
              "      <th>owner_Test Drive Car</th>\n",
              "      <th>owner_Third Owner</th>\n",
              "    </tr>\n",
              "  </thead>\n",
              "  <tbody>\n",
              "    <tr>\n",
              "      <th>selling_price</th>\n",
              "      <td>1.000000</td>\n",
              "      <td>-0.192289</td>\n",
              "      <td>-0.011918</td>\n",
              "      <td>-0.001945</td>\n",
              "      <td>0.018262</td>\n",
              "      <td>0.020755</td>\n",
              "      <td>0.023973</td>\n",
              "      <td>0.097930</td>\n",
              "      <td>0.096353</td>\n",
              "      <td>0.047129</td>\n",
              "      <td>...</td>\n",
              "      <td>-0.005095</td>\n",
              "      <td>-0.042434</td>\n",
              "      <td>-0.269453</td>\n",
              "      <td>-0.236798</td>\n",
              "      <td>0.110176</td>\n",
              "      <td>-0.530205</td>\n",
              "      <td>-0.078725</td>\n",
              "      <td>-0.161986</td>\n",
              "      <td>0.048799</td>\n",
              "      <td>-0.111326</td>\n",
              "    </tr>\n",
              "    <tr>\n",
              "      <th>km_driven</th>\n",
              "      <td>-0.192289</td>\n",
              "      <td>1.000000</td>\n",
              "      <td>0.017507</td>\n",
              "      <td>-0.005278</td>\n",
              "      <td>-0.002023</td>\n",
              "      <td>-0.002674</td>\n",
              "      <td>-0.006084</td>\n",
              "      <td>0.022337</td>\n",
              "      <td>-0.020356</td>\n",
              "      <td>-0.010161</td>\n",
              "      <td>...</td>\n",
              "      <td>-0.001372</td>\n",
              "      <td>0.036652</td>\n",
              "      <td>-0.291139</td>\n",
              "      <td>0.182663</td>\n",
              "      <td>-0.089858</td>\n",
              "      <td>0.120226</td>\n",
              "      <td>0.097349</td>\n",
              "      <td>0.195203</td>\n",
              "      <td>-0.083445</td>\n",
              "      <td>0.194713</td>\n",
              "    </tr>\n",
              "    <tr>\n",
              "      <th>name_Ambassador Classic 2000 Dsz</th>\n",
              "      <td>-0.011918</td>\n",
              "      <td>0.017507</td>\n",
              "      <td>1.000000</td>\n",
              "      <td>-0.000230</td>\n",
              "      <td>-0.000230</td>\n",
              "      <td>-0.000230</td>\n",
              "      <td>-0.000326</td>\n",
              "      <td>-0.000799</td>\n",
              "      <td>-0.000326</td>\n",
              "      <td>-0.000230</td>\n",
              "      <td>...</td>\n",
              "      <td>-0.000230</td>\n",
              "      <td>-0.001108</td>\n",
              "      <td>-0.014856</td>\n",
              "      <td>0.008824</td>\n",
              "      <td>-0.002355</td>\n",
              "      <td>0.005151</td>\n",
              "      <td>0.110082</td>\n",
              "      <td>-0.008878</td>\n",
              "      <td>-0.000952</td>\n",
              "      <td>-0.004166</td>\n",
              "    </tr>\n",
              "    <tr>\n",
              "      <th>name_Ambassador Grand 1800 ISZ MPFI PW CL</th>\n",
              "      <td>-0.001945</td>\n",
              "      <td>-0.005278</td>\n",
              "      <td>-0.000230</td>\n",
              "      <td>1.000000</td>\n",
              "      <td>-0.000230</td>\n",
              "      <td>-0.000230</td>\n",
              "      <td>-0.000326</td>\n",
              "      <td>-0.000799</td>\n",
              "      <td>-0.000326</td>\n",
              "      <td>-0.000230</td>\n",
              "      <td>...</td>\n",
              "      <td>-0.000230</td>\n",
              "      <td>-0.001108</td>\n",
              "      <td>0.015514</td>\n",
              "      <td>0.008824</td>\n",
              "      <td>-0.002355</td>\n",
              "      <td>0.005151</td>\n",
              "      <td>-0.002094</td>\n",
              "      <td>0.025960</td>\n",
              "      <td>-0.000952</td>\n",
              "      <td>-0.004166</td>\n",
              "    </tr>\n",
              "    <tr>\n",
              "      <th>name_Audi A4 1.8 TFSI</th>\n",
              "      <td>0.018262</td>\n",
              "      <td>-0.002023</td>\n",
              "      <td>-0.000230</td>\n",
              "      <td>-0.000230</td>\n",
              "      <td>1.000000</td>\n",
              "      <td>-0.000230</td>\n",
              "      <td>-0.000326</td>\n",
              "      <td>-0.000799</td>\n",
              "      <td>-0.000326</td>\n",
              "      <td>-0.000230</td>\n",
              "      <td>...</td>\n",
              "      <td>-0.000230</td>\n",
              "      <td>-0.001108</td>\n",
              "      <td>0.015514</td>\n",
              "      <td>0.008824</td>\n",
              "      <td>-0.002355</td>\n",
              "      <td>-0.044746</td>\n",
              "      <td>-0.002094</td>\n",
              "      <td>-0.008878</td>\n",
              "      <td>-0.000952</td>\n",
              "      <td>0.055315</td>\n",
              "    </tr>\n",
              "    <tr>\n",
              "      <th>...</th>\n",
              "      <td>...</td>\n",
              "      <td>...</td>\n",
              "      <td>...</td>\n",
              "      <td>...</td>\n",
              "      <td>...</td>\n",
              "      <td>...</td>\n",
              "      <td>...</td>\n",
              "      <td>...</td>\n",
              "      <td>...</td>\n",
              "      <td>...</td>\n",
              "      <td>...</td>\n",
              "      <td>...</td>\n",
              "      <td>...</td>\n",
              "      <td>...</td>\n",
              "      <td>...</td>\n",
              "      <td>...</td>\n",
              "      <td>...</td>\n",
              "      <td>...</td>\n",
              "      <td>...</td>\n",
              "      <td>...</td>\n",
              "      <td>...</td>\n",
              "    </tr>\n",
              "    <tr>\n",
              "      <th>transmission_Manual</th>\n",
              "      <td>-0.530205</td>\n",
              "      <td>0.120226</td>\n",
              "      <td>0.005151</td>\n",
              "      <td>0.005151</td>\n",
              "      <td>-0.044746</td>\n",
              "      <td>-0.044746</td>\n",
              "      <td>-0.063287</td>\n",
              "      <td>-0.155201</td>\n",
              "      <td>-0.063287</td>\n",
              "      <td>-0.044746</td>\n",
              "      <td>...</td>\n",
              "      <td>-0.044746</td>\n",
              "      <td>0.024764</td>\n",
              "      <td>0.039614</td>\n",
              "      <td>0.214163</td>\n",
              "      <td>-0.042346</td>\n",
              "      <td>1.000000</td>\n",
              "      <td>0.035597</td>\n",
              "      <td>0.068068</td>\n",
              "      <td>0.009152</td>\n",
              "      <td>0.030802</td>\n",
              "    </tr>\n",
              "    <tr>\n",
              "      <th>owner_Fourth &amp; Above Owner</th>\n",
              "      <td>-0.078725</td>\n",
              "      <td>0.097349</td>\n",
              "      <td>0.110082</td>\n",
              "      <td>-0.002094</td>\n",
              "      <td>-0.002094</td>\n",
              "      <td>-0.002094</td>\n",
              "      <td>-0.002961</td>\n",
              "      <td>-0.007262</td>\n",
              "      <td>-0.002961</td>\n",
              "      <td>-0.002094</td>\n",
              "      <td>...</td>\n",
              "      <td>-0.002094</td>\n",
              "      <td>0.013384</td>\n",
              "      <td>0.011502</td>\n",
              "      <td>0.072322</td>\n",
              "      <td>-0.021395</td>\n",
              "      <td>0.035597</td>\n",
              "      <td>1.000000</td>\n",
              "      <td>-0.080648</td>\n",
              "      <td>-0.008648</td>\n",
              "      <td>-0.037849</td>\n",
              "    </tr>\n",
              "    <tr>\n",
              "      <th>owner_Second Owner</th>\n",
              "      <td>-0.161986</td>\n",
              "      <td>0.195203</td>\n",
              "      <td>-0.008878</td>\n",
              "      <td>0.025960</td>\n",
              "      <td>-0.008878</td>\n",
              "      <td>-0.008878</td>\n",
              "      <td>-0.012557</td>\n",
              "      <td>-0.030793</td>\n",
              "      <td>-0.012557</td>\n",
              "      <td>-0.008878</td>\n",
              "      <td>...</td>\n",
              "      <td>0.025960</td>\n",
              "      <td>0.030141</td>\n",
              "      <td>-0.012717</td>\n",
              "      <td>0.186573</td>\n",
              "      <td>-0.076764</td>\n",
              "      <td>0.068068</td>\n",
              "      <td>-0.080648</td>\n",
              "      <td>1.000000</td>\n",
              "      <td>-0.036672</td>\n",
              "      <td>-0.160498</td>\n",
              "    </tr>\n",
              "    <tr>\n",
              "      <th>owner_Test Drive Car</th>\n",
              "      <td>0.048799</td>\n",
              "      <td>-0.083445</td>\n",
              "      <td>-0.000952</td>\n",
              "      <td>-0.000952</td>\n",
              "      <td>-0.000952</td>\n",
              "      <td>-0.000952</td>\n",
              "      <td>-0.001346</td>\n",
              "      <td>-0.003302</td>\n",
              "      <td>-0.001346</td>\n",
              "      <td>-0.000952</td>\n",
              "      <td>...</td>\n",
              "      <td>-0.000952</td>\n",
              "      <td>-0.004577</td>\n",
              "      <td>0.012427</td>\n",
              "      <td>-0.107886</td>\n",
              "      <td>-0.009729</td>\n",
              "      <td>0.009152</td>\n",
              "      <td>-0.008648</td>\n",
              "      <td>-0.036672</td>\n",
              "      <td>1.000000</td>\n",
              "      <td>-0.017210</td>\n",
              "    </tr>\n",
              "    <tr>\n",
              "      <th>owner_Third Owner</th>\n",
              "      <td>-0.111326</td>\n",
              "      <td>0.194713</td>\n",
              "      <td>-0.004166</td>\n",
              "      <td>-0.004166</td>\n",
              "      <td>0.055315</td>\n",
              "      <td>-0.004166</td>\n",
              "      <td>-0.005893</td>\n",
              "      <td>-0.014451</td>\n",
              "      <td>-0.005893</td>\n",
              "      <td>0.055315</td>\n",
              "      <td>...</td>\n",
              "      <td>-0.004166</td>\n",
              "      <td>0.004836</td>\n",
              "      <td>-0.008502</td>\n",
              "      <td>0.140823</td>\n",
              "      <td>-0.042578</td>\n",
              "      <td>0.030802</td>\n",
              "      <td>-0.037849</td>\n",
              "      <td>-0.160498</td>\n",
              "      <td>-0.017210</td>\n",
              "      <td>1.000000</td>\n",
              "    </tr>\n",
              "  </tbody>\n",
              "</table>\n",
              "<p>1503 rows × 1503 columns</p>\n",
              "</div>"
            ],
            "text/plain": [
              "                                           selling_price  km_driven  \\\n",
              "selling_price                                   1.000000  -0.192289   \n",
              "km_driven                                      -0.192289   1.000000   \n",
              "name_Ambassador Classic 2000 Dsz               -0.011918   0.017507   \n",
              "name_Ambassador Grand 1800 ISZ MPFI PW CL      -0.001945  -0.005278   \n",
              "name_Audi A4 1.8 TFSI                           0.018262  -0.002023   \n",
              "...                                                  ...        ...   \n",
              "transmission_Manual                            -0.530205   0.120226   \n",
              "owner_Fourth & Above Owner                     -0.078725   0.097349   \n",
              "owner_Second Owner                             -0.161986   0.195203   \n",
              "owner_Test Drive Car                            0.048799  -0.083445   \n",
              "owner_Third Owner                              -0.111326   0.194713   \n",
              "\n",
              "                                           name_Ambassador Classic 2000 Dsz  \\\n",
              "selling_price                                                     -0.011918   \n",
              "km_driven                                                          0.017507   \n",
              "name_Ambassador Classic 2000 Dsz                                   1.000000   \n",
              "name_Ambassador Grand 1800 ISZ MPFI PW CL                         -0.000230   \n",
              "name_Audi A4 1.8 TFSI                                             -0.000230   \n",
              "...                                                                     ...   \n",
              "transmission_Manual                                                0.005151   \n",
              "owner_Fourth & Above Owner                                         0.110082   \n",
              "owner_Second Owner                                                -0.008878   \n",
              "owner_Test Drive Car                                              -0.000952   \n",
              "owner_Third Owner                                                 -0.004166   \n",
              "\n",
              "                                           name_Ambassador Grand 1800 ISZ MPFI PW CL  \\\n",
              "selling_price                                                              -0.001945   \n",
              "km_driven                                                                  -0.005278   \n",
              "name_Ambassador Classic 2000 Dsz                                           -0.000230   \n",
              "name_Ambassador Grand 1800 ISZ MPFI PW CL                                   1.000000   \n",
              "name_Audi A4 1.8 TFSI                                                      -0.000230   \n",
              "...                                                                              ...   \n",
              "transmission_Manual                                                         0.005151   \n",
              "owner_Fourth & Above Owner                                                 -0.002094   \n",
              "owner_Second Owner                                                          0.025960   \n",
              "owner_Test Drive Car                                                       -0.000952   \n",
              "owner_Third Owner                                                          -0.004166   \n",
              "\n",
              "                                           name_Audi A4 1.8 TFSI  \\\n",
              "selling_price                                           0.018262   \n",
              "km_driven                                              -0.002023   \n",
              "name_Ambassador Classic 2000 Dsz                       -0.000230   \n",
              "name_Ambassador Grand 1800 ISZ MPFI PW CL              -0.000230   \n",
              "name_Audi A4 1.8 TFSI                                   1.000000   \n",
              "...                                                          ...   \n",
              "transmission_Manual                                    -0.044746   \n",
              "owner_Fourth & Above Owner                             -0.002094   \n",
              "owner_Second Owner                                     -0.008878   \n",
              "owner_Test Drive Car                                   -0.000952   \n",
              "owner_Third Owner                                       0.055315   \n",
              "\n",
              "                                           name_Audi A4 2.0 TDI  \\\n",
              "selling_price                                          0.020755   \n",
              "km_driven                                             -0.002674   \n",
              "name_Ambassador Classic 2000 Dsz                      -0.000230   \n",
              "name_Ambassador Grand 1800 ISZ MPFI PW CL             -0.000230   \n",
              "name_Audi A4 1.8 TFSI                                 -0.000230   \n",
              "...                                                         ...   \n",
              "transmission_Manual                                   -0.044746   \n",
              "owner_Fourth & Above Owner                            -0.002094   \n",
              "owner_Second Owner                                    -0.008878   \n",
              "owner_Test Drive Car                                  -0.000952   \n",
              "owner_Third Owner                                     -0.004166   \n",
              "\n",
              "                                           name_Audi A4 2.0 TDI 177 Bhp Premium Plus  \\\n",
              "selling_price                                                               0.023973   \n",
              "km_driven                                                                  -0.006084   \n",
              "name_Ambassador Classic 2000 Dsz                                           -0.000326   \n",
              "name_Ambassador Grand 1800 ISZ MPFI PW CL                                  -0.000326   \n",
              "name_Audi A4 1.8 TFSI                                                      -0.000326   \n",
              "...                                                                              ...   \n",
              "transmission_Manual                                                        -0.063287   \n",
              "owner_Fourth & Above Owner                                                 -0.002961   \n",
              "owner_Second Owner                                                         -0.012557   \n",
              "owner_Test Drive Car                                                       -0.001346   \n",
              "owner_Third Owner                                                          -0.005893   \n",
              "\n",
              "                                           name_Audi A4 3.0 TDI Quattro  \\\n",
              "selling_price                                                  0.097930   \n",
              "km_driven                                                      0.022337   \n",
              "name_Ambassador Classic 2000 Dsz                              -0.000799   \n",
              "name_Ambassador Grand 1800 ISZ MPFI PW CL                     -0.000799   \n",
              "name_Audi A4 1.8 TFSI                                         -0.000799   \n",
              "...                                                                 ...   \n",
              "transmission_Manual                                           -0.155201   \n",
              "owner_Fourth & Above Owner                                    -0.007262   \n",
              "owner_Second Owner                                            -0.030793   \n",
              "owner_Test Drive Car                                          -0.003302   \n",
              "owner_Third Owner                                             -0.014451   \n",
              "\n",
              "                                           name_Audi A4 30 TFSI Technology  \\\n",
              "selling_price                                                     0.096353   \n",
              "km_driven                                                        -0.020356   \n",
              "name_Ambassador Classic 2000 Dsz                                 -0.000326   \n",
              "name_Ambassador Grand 1800 ISZ MPFI PW CL                        -0.000326   \n",
              "name_Audi A4 1.8 TFSI                                            -0.000326   \n",
              "...                                                                    ...   \n",
              "transmission_Manual                                              -0.063287   \n",
              "owner_Fourth & Above Owner                                       -0.002961   \n",
              "owner_Second Owner                                               -0.012557   \n",
              "owner_Test Drive Car                                             -0.001346   \n",
              "owner_Third Owner                                                -0.005893   \n",
              "\n",
              "                                           name_Audi A4 35 TDI Premium  ...  \\\n",
              "selling_price                                                 0.047129  ...   \n",
              "km_driven                                                    -0.010161  ...   \n",
              "name_Ambassador Classic 2000 Dsz                             -0.000230  ...   \n",
              "name_Ambassador Grand 1800 ISZ MPFI PW CL                    -0.000230  ...   \n",
              "name_Audi A4 1.8 TFSI                                        -0.000230  ...   \n",
              "...                                                                ...  ...   \n",
              "transmission_Manual                                          -0.044746  ...   \n",
              "owner_Fourth & Above Owner                                   -0.002094  ...   \n",
              "owner_Second Owner                                           -0.008878  ...   \n",
              "owner_Test Drive Car                                         -0.000952  ...   \n",
              "owner_Third Owner                                             0.055315  ...   \n",
              "\n",
              "                                           fuel_Electric  fuel_LPG  \\\n",
              "selling_price                                  -0.005095 -0.042434   \n",
              "km_driven                                      -0.001372  0.036652   \n",
              "name_Ambassador Classic 2000 Dsz               -0.000230 -0.001108   \n",
              "name_Ambassador Grand 1800 ISZ MPFI PW CL      -0.000230 -0.001108   \n",
              "name_Audi A4 1.8 TFSI                          -0.000230 -0.001108   \n",
              "...                                                  ...       ...   \n",
              "transmission_Manual                            -0.044746  0.024764   \n",
              "owner_Fourth & Above Owner                     -0.002094  0.013384   \n",
              "owner_Second Owner                              0.025960  0.030141   \n",
              "owner_Test Drive Car                           -0.000952 -0.004577   \n",
              "owner_Third Owner                              -0.004166  0.004836   \n",
              "\n",
              "                                           fuel_Petrol  \\\n",
              "selling_price                                -0.269453   \n",
              "km_driven                                    -0.291139   \n",
              "name_Ambassador Classic 2000 Dsz             -0.014856   \n",
              "name_Ambassador Grand 1800 ISZ MPFI PW CL     0.015514   \n",
              "name_Audi A4 1.8 TFSI                         0.015514   \n",
              "...                                                ...   \n",
              "transmission_Manual                           0.039614   \n",
              "owner_Fourth & Above Owner                    0.011502   \n",
              "owner_Second Owner                           -0.012717   \n",
              "owner_Test Drive Car                          0.012427   \n",
              "owner_Third Owner                            -0.008502   \n",
              "\n",
              "                                           seller_type_Individual  \\\n",
              "selling_price                                           -0.236798   \n",
              "km_driven                                                0.182663   \n",
              "name_Ambassador Classic 2000 Dsz                         0.008824   \n",
              "name_Ambassador Grand 1800 ISZ MPFI PW CL                0.008824   \n",
              "name_Audi A4 1.8 TFSI                                    0.008824   \n",
              "...                                                           ...   \n",
              "transmission_Manual                                      0.214163   \n",
              "owner_Fourth & Above Owner                               0.072322   \n",
              "owner_Second Owner                                       0.186573   \n",
              "owner_Test Drive Car                                    -0.107886   \n",
              "owner_Third Owner                                        0.140823   \n",
              "\n",
              "                                           seller_type_Trustmark Dealer  \\\n",
              "selling_price                                                  0.110176   \n",
              "km_driven                                                     -0.089858   \n",
              "name_Ambassador Classic 2000 Dsz                              -0.002355   \n",
              "name_Ambassador Grand 1800 ISZ MPFI PW CL                     -0.002355   \n",
              "name_Audi A4 1.8 TFSI                                         -0.002355   \n",
              "...                                                                 ...   \n",
              "transmission_Manual                                           -0.042346   \n",
              "owner_Fourth & Above Owner                                    -0.021395   \n",
              "owner_Second Owner                                            -0.076764   \n",
              "owner_Test Drive Car                                          -0.009729   \n",
              "owner_Third Owner                                             -0.042578   \n",
              "\n",
              "                                           transmission_Manual  \\\n",
              "selling_price                                        -0.530205   \n",
              "km_driven                                             0.120226   \n",
              "name_Ambassador Classic 2000 Dsz                      0.005151   \n",
              "name_Ambassador Grand 1800 ISZ MPFI PW CL             0.005151   \n",
              "name_Audi A4 1.8 TFSI                                -0.044746   \n",
              "...                                                        ...   \n",
              "transmission_Manual                                   1.000000   \n",
              "owner_Fourth & Above Owner                            0.035597   \n",
              "owner_Second Owner                                    0.068068   \n",
              "owner_Test Drive Car                                  0.009152   \n",
              "owner_Third Owner                                     0.030802   \n",
              "\n",
              "                                           owner_Fourth & Above Owner  \\\n",
              "selling_price                                               -0.078725   \n",
              "km_driven                                                    0.097349   \n",
              "name_Ambassador Classic 2000 Dsz                             0.110082   \n",
              "name_Ambassador Grand 1800 ISZ MPFI PW CL                   -0.002094   \n",
              "name_Audi A4 1.8 TFSI                                       -0.002094   \n",
              "...                                                               ...   \n",
              "transmission_Manual                                          0.035597   \n",
              "owner_Fourth & Above Owner                                   1.000000   \n",
              "owner_Second Owner                                          -0.080648   \n",
              "owner_Test Drive Car                                        -0.008648   \n",
              "owner_Third Owner                                           -0.037849   \n",
              "\n",
              "                                           owner_Second Owner  \\\n",
              "selling_price                                       -0.161986   \n",
              "km_driven                                            0.195203   \n",
              "name_Ambassador Classic 2000 Dsz                    -0.008878   \n",
              "name_Ambassador Grand 1800 ISZ MPFI PW CL            0.025960   \n",
              "name_Audi A4 1.8 TFSI                               -0.008878   \n",
              "...                                                       ...   \n",
              "transmission_Manual                                  0.068068   \n",
              "owner_Fourth & Above Owner                          -0.080648   \n",
              "owner_Second Owner                                   1.000000   \n",
              "owner_Test Drive Car                                -0.036672   \n",
              "owner_Third Owner                                   -0.160498   \n",
              "\n",
              "                                           owner_Test Drive Car  \\\n",
              "selling_price                                          0.048799   \n",
              "km_driven                                             -0.083445   \n",
              "name_Ambassador Classic 2000 Dsz                      -0.000952   \n",
              "name_Ambassador Grand 1800 ISZ MPFI PW CL             -0.000952   \n",
              "name_Audi A4 1.8 TFSI                                 -0.000952   \n",
              "...                                                         ...   \n",
              "transmission_Manual                                    0.009152   \n",
              "owner_Fourth & Above Owner                            -0.008648   \n",
              "owner_Second Owner                                    -0.036672   \n",
              "owner_Test Drive Car                                   1.000000   \n",
              "owner_Third Owner                                     -0.017210   \n",
              "\n",
              "                                           owner_Third Owner  \n",
              "selling_price                                      -0.111326  \n",
              "km_driven                                           0.194713  \n",
              "name_Ambassador Classic 2000 Dsz                   -0.004166  \n",
              "name_Ambassador Grand 1800 ISZ MPFI PW CL          -0.004166  \n",
              "name_Audi A4 1.8 TFSI                               0.055315  \n",
              "...                                                      ...  \n",
              "transmission_Manual                                 0.030802  \n",
              "owner_Fourth & Above Owner                         -0.037849  \n",
              "owner_Second Owner                                 -0.160498  \n",
              "owner_Test Drive Car                               -0.017210  \n",
              "owner_Third Owner                                   1.000000  \n",
              "\n",
              "[1503 rows x 1503 columns]"
            ]
          },
          "execution_count": 33,
          "metadata": {},
          "output_type": "execute_result"
        }
      ],
      "source": [
        "df.corr()\n"
      ]
    },
    {
      "cell_type": "code",
      "execution_count": null,
      "id": "2df8b484",
      "metadata": {
        "id": "2df8b484"
      },
      "outputs": [],
      "source": [
        "x = df.iloc[:,1:]\n",
        "y = df.iloc[:,0]"
      ]
    },
    {
      "cell_type": "code",
      "execution_count": null,
      "id": "2281d6e9",
      "metadata": {
        "id": "2281d6e9",
        "outputId": "e27fe946-7c13-47bb-ad0c-2947992cc644"
      },
      "outputs": [
        {
          "data": {
            "text/html": [
              "<div>\n",
              "<style scoped>\n",
              "    .dataframe tbody tr th:only-of-type {\n",
              "        vertical-align: middle;\n",
              "    }\n",
              "\n",
              "    .dataframe tbody tr th {\n",
              "        vertical-align: top;\n",
              "    }\n",
              "\n",
              "    .dataframe thead th {\n",
              "        text-align: right;\n",
              "    }\n",
              "</style>\n",
              "<table border=\"1\" class=\"dataframe\">\n",
              "  <thead>\n",
              "    <tr style=\"text-align: right;\">\n",
              "      <th></th>\n",
              "      <th>km_driven</th>\n",
              "      <th>name_Ambassador Classic 2000 Dsz</th>\n",
              "      <th>name_Ambassador Grand 1800 ISZ MPFI PW CL</th>\n",
              "      <th>name_Audi A4 1.8 TFSI</th>\n",
              "      <th>name_Audi A4 2.0 TDI</th>\n",
              "      <th>name_Audi A4 2.0 TDI 177 Bhp Premium Plus</th>\n",
              "      <th>name_Audi A4 3.0 TDI Quattro</th>\n",
              "      <th>name_Audi A4 30 TFSI Technology</th>\n",
              "      <th>name_Audi A4 35 TDI Premium</th>\n",
              "      <th>name_Audi A4 35 TDI Premium Plus</th>\n",
              "      <th>...</th>\n",
              "      <th>fuel_Electric</th>\n",
              "      <th>fuel_LPG</th>\n",
              "      <th>fuel_Petrol</th>\n",
              "      <th>seller_type_Individual</th>\n",
              "      <th>seller_type_Trustmark Dealer</th>\n",
              "      <th>transmission_Manual</th>\n",
              "      <th>owner_Fourth &amp; Above Owner</th>\n",
              "      <th>owner_Second Owner</th>\n",
              "      <th>owner_Test Drive Car</th>\n",
              "      <th>owner_Third Owner</th>\n",
              "    </tr>\n",
              "  </thead>\n",
              "  <tbody>\n",
              "    <tr>\n",
              "      <th>0</th>\n",
              "      <td>70000</td>\n",
              "      <td>0</td>\n",
              "      <td>0</td>\n",
              "      <td>0</td>\n",
              "      <td>0</td>\n",
              "      <td>0</td>\n",
              "      <td>0</td>\n",
              "      <td>0</td>\n",
              "      <td>0</td>\n",
              "      <td>0</td>\n",
              "      <td>...</td>\n",
              "      <td>0</td>\n",
              "      <td>0</td>\n",
              "      <td>1</td>\n",
              "      <td>1</td>\n",
              "      <td>0</td>\n",
              "      <td>1</td>\n",
              "      <td>0</td>\n",
              "      <td>0</td>\n",
              "      <td>0</td>\n",
              "      <td>0</td>\n",
              "    </tr>\n",
              "    <tr>\n",
              "      <th>1</th>\n",
              "      <td>50000</td>\n",
              "      <td>0</td>\n",
              "      <td>0</td>\n",
              "      <td>0</td>\n",
              "      <td>0</td>\n",
              "      <td>0</td>\n",
              "      <td>0</td>\n",
              "      <td>0</td>\n",
              "      <td>0</td>\n",
              "      <td>0</td>\n",
              "      <td>...</td>\n",
              "      <td>0</td>\n",
              "      <td>0</td>\n",
              "      <td>1</td>\n",
              "      <td>1</td>\n",
              "      <td>0</td>\n",
              "      <td>1</td>\n",
              "      <td>0</td>\n",
              "      <td>0</td>\n",
              "      <td>0</td>\n",
              "      <td>0</td>\n",
              "    </tr>\n",
              "    <tr>\n",
              "      <th>2</th>\n",
              "      <td>100000</td>\n",
              "      <td>0</td>\n",
              "      <td>0</td>\n",
              "      <td>0</td>\n",
              "      <td>0</td>\n",
              "      <td>0</td>\n",
              "      <td>0</td>\n",
              "      <td>0</td>\n",
              "      <td>0</td>\n",
              "      <td>0</td>\n",
              "      <td>...</td>\n",
              "      <td>0</td>\n",
              "      <td>0</td>\n",
              "      <td>0</td>\n",
              "      <td>1</td>\n",
              "      <td>0</td>\n",
              "      <td>1</td>\n",
              "      <td>0</td>\n",
              "      <td>0</td>\n",
              "      <td>0</td>\n",
              "      <td>0</td>\n",
              "    </tr>\n",
              "    <tr>\n",
              "      <th>3</th>\n",
              "      <td>46000</td>\n",
              "      <td>0</td>\n",
              "      <td>0</td>\n",
              "      <td>0</td>\n",
              "      <td>0</td>\n",
              "      <td>0</td>\n",
              "      <td>0</td>\n",
              "      <td>0</td>\n",
              "      <td>0</td>\n",
              "      <td>0</td>\n",
              "      <td>...</td>\n",
              "      <td>0</td>\n",
              "      <td>0</td>\n",
              "      <td>1</td>\n",
              "      <td>1</td>\n",
              "      <td>0</td>\n",
              "      <td>1</td>\n",
              "      <td>0</td>\n",
              "      <td>0</td>\n",
              "      <td>0</td>\n",
              "      <td>0</td>\n",
              "    </tr>\n",
              "    <tr>\n",
              "      <th>4</th>\n",
              "      <td>141000</td>\n",
              "      <td>0</td>\n",
              "      <td>0</td>\n",
              "      <td>0</td>\n",
              "      <td>0</td>\n",
              "      <td>0</td>\n",
              "      <td>0</td>\n",
              "      <td>0</td>\n",
              "      <td>0</td>\n",
              "      <td>0</td>\n",
              "      <td>...</td>\n",
              "      <td>0</td>\n",
              "      <td>0</td>\n",
              "      <td>0</td>\n",
              "      <td>1</td>\n",
              "      <td>0</td>\n",
              "      <td>1</td>\n",
              "      <td>0</td>\n",
              "      <td>1</td>\n",
              "      <td>0</td>\n",
              "      <td>0</td>\n",
              "    </tr>\n",
              "  </tbody>\n",
              "</table>\n",
              "<p>5 rows × 1502 columns</p>\n",
              "</div>"
            ],
            "text/plain": [
              "   km_driven  name_Ambassador Classic 2000 Dsz  \\\n",
              "0      70000                                 0   \n",
              "1      50000                                 0   \n",
              "2     100000                                 0   \n",
              "3      46000                                 0   \n",
              "4     141000                                 0   \n",
              "\n",
              "   name_Ambassador Grand 1800 ISZ MPFI PW CL  name_Audi A4 1.8 TFSI  \\\n",
              "0                                          0                      0   \n",
              "1                                          0                      0   \n",
              "2                                          0                      0   \n",
              "3                                          0                      0   \n",
              "4                                          0                      0   \n",
              "\n",
              "   name_Audi A4 2.0 TDI  name_Audi A4 2.0 TDI 177 Bhp Premium Plus  \\\n",
              "0                     0                                          0   \n",
              "1                     0                                          0   \n",
              "2                     0                                          0   \n",
              "3                     0                                          0   \n",
              "4                     0                                          0   \n",
              "\n",
              "   name_Audi A4 3.0 TDI Quattro  name_Audi A4 30 TFSI Technology  \\\n",
              "0                             0                                0   \n",
              "1                             0                                0   \n",
              "2                             0                                0   \n",
              "3                             0                                0   \n",
              "4                             0                                0   \n",
              "\n",
              "   name_Audi A4 35 TDI Premium  name_Audi A4 35 TDI Premium Plus  ...  \\\n",
              "0                            0                                 0  ...   \n",
              "1                            0                                 0  ...   \n",
              "2                            0                                 0  ...   \n",
              "3                            0                                 0  ...   \n",
              "4                            0                                 0  ...   \n",
              "\n",
              "   fuel_Electric  fuel_LPG  fuel_Petrol  seller_type_Individual  \\\n",
              "0              0         0            1                       1   \n",
              "1              0         0            1                       1   \n",
              "2              0         0            0                       1   \n",
              "3              0         0            1                       1   \n",
              "4              0         0            0                       1   \n",
              "\n",
              "   seller_type_Trustmark Dealer  transmission_Manual  \\\n",
              "0                             0                    1   \n",
              "1                             0                    1   \n",
              "2                             0                    1   \n",
              "3                             0                    1   \n",
              "4                             0                    1   \n",
              "\n",
              "   owner_Fourth & Above Owner  owner_Second Owner  owner_Test Drive Car  \\\n",
              "0                           0                   0                     0   \n",
              "1                           0                   0                     0   \n",
              "2                           0                   0                     0   \n",
              "3                           0                   0                     0   \n",
              "4                           0                   1                     0   \n",
              "\n",
              "   owner_Third Owner  \n",
              "0                  0  \n",
              "1                  0  \n",
              "2                  0  \n",
              "3                  0  \n",
              "4                  0  \n",
              "\n",
              "[5 rows x 1502 columns]"
            ]
          },
          "execution_count": 35,
          "metadata": {},
          "output_type": "execute_result"
        }
      ],
      "source": [
        "x.head()"
      ]
    },
    {
      "cell_type": "code",
      "execution_count": null,
      "id": "495e9632",
      "metadata": {
        "id": "495e9632",
        "outputId": "7efa1f1d-3b38-442c-9d40-3b05c85ebccf"
      },
      "outputs": [
        {
          "data": {
            "text/plain": [
              "0     60000\n",
              "1    135000\n",
              "2    600000\n",
              "3    250000\n",
              "4    450000\n",
              "Name: selling_price, dtype: int64"
            ]
          },
          "execution_count": 36,
          "metadata": {},
          "output_type": "execute_result"
        }
      ],
      "source": [
        "y.head()"
      ]
    },
    {
      "cell_type": "code",
      "execution_count": null,
      "id": "593040ff",
      "metadata": {
        "id": "593040ff",
        "outputId": "0330f383-44d5-43cc-9317-13bce8aedf7e"
      },
      "outputs": [
        {
          "data": {
            "text/plain": [
              "ExtraTreesRegressor()"
            ]
          },
          "execution_count": 40,
          "metadata": {},
          "output_type": "execute_result"
        }
      ],
      "source": [
        "from sklearn.ensemble import ExtraTreesRegressor\n",
        "model=ExtraTreesRegressor()\n",
        "model.fit(x,y)"
      ]
    },
    {
      "cell_type": "code",
      "execution_count": null,
      "id": "39c1703b",
      "metadata": {
        "id": "39c1703b",
        "outputId": "37effe02-5749-4b3c-e020-ee5149bdbda0"
      },
      "outputs": [
        {
          "name": "stdout",
          "output_type": "stream",
          "text": [
            "[6.00711853e-02 8.04578700e-06 4.34516872e-05 ... 1.00138963e-02\n",
            " 1.30343997e-03 7.35154241e-03]\n"
          ]
        }
      ],
      "source": [
        "print(model.feature_importances_)"
      ]
    },
    {
      "cell_type": "code",
      "execution_count": null,
      "id": "58433c9d",
      "metadata": {
        "id": "58433c9d",
        "outputId": "162208fe-cac8-48ba-e995-703304b60784"
      },
      "outputs": [
        {
          "data": {
            "image/png": "[encoded data removed]",
            "text/plain": [
              "<Figure size 640x480 with 1 Axes>"
            ]
          },
          "metadata": {},
          "output_type": "display_data"
        }
      ],
      "source": [
        "feat_importances = pd.Series(model.feature_importances_,index=x.columns)\n",
        "feat_importances.nlargest(5).plot(kind='barh')\n",
        "plt.show()"
      ]
    },
    {
      "cell_type": "markdown",
      "id": "1f655d9f",
      "metadata": {
        "id": "1f655d9f"
      },
      "source": [
        "# Conclusion\n",
        "Transmission manual and fuel diesel are the most significant features"
      ]
    },
    {
      "cell_type": "markdown",
      "id": "89f610ff",
      "metadata": {
        "id": "89f610ff"
      },
      "source": [
        "# Train Test Splitting"
      ]
    },
    {
      "cell_type": "code",
      "execution_count": null,
      "id": "88737000",
      "metadata": {
        "id": "88737000"
      },
      "outputs": [],
      "source": [
        "from sklearn.model_selection import train_test_split\n",
        "x_train,x_test,y_train,y_test = train_test_split(x,y,test_size=0.2)"
      ]
    },
    {
      "cell_type": "code",
      "execution_count": null,
      "id": "a394ee82",
      "metadata": {
        "id": "a394ee82",
        "outputId": "19a9210c-8220-41ab-b082-c9d3ff9bb657"
      },
      "outputs": [
        {
          "data": {
            "text/plain": [
              "(3472, 1502)"
            ]
          },
          "execution_count": 48,
          "metadata": {},
          "output_type": "execute_result"
        }
      ],
      "source": [
        "x_train.shape"
      ]
    },
    {
      "cell_type": "code",
      "execution_count": null,
      "id": "c087739a",
      "metadata": {
        "id": "c087739a"
      },
      "outputs": [],
      "source": [
        "from sklearn.ensemble import RandomForestRegressor\n",
        "rf_random=RandomForestRegressor()"
      ]
    },
    {
      "cell_type": "code",
      "execution_count": null,
      "id": "351382f7",
      "metadata": {
        "id": "351382f7",
        "outputId": "4acf21f3-6b47-4dab-f89d-91161f072a02"
      },
      "outputs": [
        {
          "name": "stdout",
          "output_type": "stream",
          "text": [
            "[100, 200, 300, 400, 500, 600, 700, 800, 900, 1000, 1100, 1200]\n"
          ]
        }
      ],
      "source": [
        "import numpy as np\n",
        "n_estimators=[int(x) for x in np.linspace(start=100,stop=1200,num=12)]\n",
        "print(n_estimators)\n"
      ]
    },
    {
      "cell_type": "code",
      "execution_count": null,
      "id": "de523da2",
      "metadata": {
        "id": "de523da2"
      },
      "outputs": [],
      "source": [
        "max_features = ['auto','sqrt']\n",
        "max_depth = [int(x) for x in np.linspace(5,30, num = 6)]\n",
        "min_samples_split = [2,5,10,15,100]\n",
        "min_samples_leaf = [1,2,5,10]"
      ]
    },
    {
      "cell_type": "code",
      "execution_count": null,
      "id": "dac1ddb6",
      "metadata": {
        "id": "dac1ddb6"
      },
      "outputs": [],
      "source": [
        "from sklearn.model_selection import RandomizedSearchCV"
      ]
    },
    {
      "cell_type": "code",
      "execution_count": null,
      "id": "09ced2e5",
      "metadata": {
        "id": "09ced2e5",
        "outputId": "50eb1894-84bd-4a65-c5a8-59da2017405f"
      },
      "outputs": [
        {
          "name": "stdout",
          "output_type": "stream",
          "text": [
            "{'n_estimators': [100, 200, 300, 400, 500, 600, 700, 800, 900, 1000, 1100, 1200], 'max_features': ['auto', 'sqrt'], 'max_depth': [5, 10, 15, 20, 25, 30], 'min_samples_split': [2, 5, 10, 15, 100], 'min_samples_leaf': [1, 2, 5, 10]}\n"
          ]
        }
      ],
      "source": [
        "random_grid = {'n_estimators':n_estimators,\n",
        "              'max_features': max_features,\n",
        "              'max_depth': max_depth,\n",
        "              'min_samples_split':min_samples_split,\n",
        "              'min_samples_leaf':min_samples_leaf}\n",
        "print(random_grid)"
      ]
    },
    {
      "cell_type": "code",
      "execution_count": null,
      "id": "7fb7d4bc",
      "metadata": {
        "id": "7fb7d4bc"
      },
      "outputs": [],
      "source": [
        "rf = RandomForestRegressor()"
      ]
    },
    {
      "cell_type": "code",
      "execution_count": null,
      "id": "2d937263",
      "metadata": {
        "id": "2d937263"
      },
      "outputs": [],
      "source": [
        "rf_random = RandomizedSearchCV(estimator = rf,param_distributions = random_grid,scoring='neg_mean_squared_error',n_iter=10,cv = 5, verbose=2,random_state=42,n_jobs=1)\n",
        "                              "
      ]
    },
    {
      "cell_type": "code",
      "execution_count": null,
      "id": "2ad72464",
      "metadata": {
        "id": "2ad72464",
        "outputId": "6842097e-dcd8-45a1-aa75-286626114b56"
      },
      "outputs": [
        {
          "name": "stdout",
          "output_type": "stream",
          "text": [
            "Fitting 5 folds for each of 10 candidates, totalling 50 fits\n",
            "[CV] END max_depth=10, max_features=sqrt, min_samples_leaf=5, min_samples_split=5, n_estimators=900; total time=   2.1s\n",
            "[CV] END max_depth=10, max_features=sqrt, min_samples_leaf=5, min_samples_split=5, n_estimators=900; total time=   2.1s\n",
            "[CV] END max_depth=10, max_features=sqrt, min_samples_leaf=5, min_samples_split=5, n_estimators=900; total time=   2.1s\n",
            "[CV] END max_depth=10, max_features=sqrt, min_samples_leaf=5, min_samples_split=5, n_estimators=900; total time=   2.1s\n",
            "[CV] END max_depth=10, max_features=sqrt, min_samples_leaf=5, min_samples_split=5, n_estimators=900; total time=   2.0s\n",
            "[CV] END max_depth=15, max_features=sqrt, min_samples_leaf=2, min_samples_split=10, n_estimators=1100; total time=   5.7s\n",
            "[CV] END max_depth=15, max_features=sqrt, min_samples_leaf=2, min_samples_split=10, n_estimators=1100; total time=   5.7s\n",
            "[CV] END max_depth=15, max_features=sqrt, min_samples_leaf=2, min_samples_split=10, n_estimators=1100; total time=   5.6s\n",
            "[CV] END max_depth=15, max_features=sqrt, min_samples_leaf=2, min_samples_split=10, n_estimators=1100; total time=   5.6s\n",
            "[CV] END max_depth=15, max_features=sqrt, min_samples_leaf=2, min_samples_split=10, n_estimators=1100; total time=   5.6s\n",
            "[CV] END max_depth=15, max_features=auto, min_samples_leaf=5, min_samples_split=100, n_estimators=300; total time=  10.2s\n",
            "[CV] END max_depth=15, max_features=auto, min_samples_leaf=5, min_samples_split=100, n_estimators=300; total time=  10.6s\n",
            "[CV] END max_depth=15, max_features=auto, min_samples_leaf=5, min_samples_split=100, n_estimators=300; total time=  10.3s\n",
            "[CV] END max_depth=15, max_features=auto, min_samples_leaf=5, min_samples_split=100, n_estimators=300; total time=  10.7s\n",
            "[CV] END max_depth=15, max_features=auto, min_samples_leaf=5, min_samples_split=100, n_estimators=300; total time=  10.4s\n",
            "[CV] END max_depth=15, max_features=auto, min_samples_leaf=5, min_samples_split=5, n_estimators=400; total time=  16.8s\n",
            "[CV] END max_depth=15, max_features=auto, min_samples_leaf=5, min_samples_split=5, n_estimators=400; total time=  16.4s\n",
            "[CV] END max_depth=15, max_features=auto, min_samples_leaf=5, min_samples_split=5, n_estimators=400; total time=  16.3s\n",
            "[CV] END max_depth=15, max_features=auto, min_samples_leaf=5, min_samples_split=5, n_estimators=400; total time=  16.7s\n",
            "[CV] END max_depth=15, max_features=auto, min_samples_leaf=5, min_samples_split=5, n_estimators=400; total time=  16.2s\n",
            "[CV] END max_depth=20, max_features=auto, min_samples_leaf=10, min_samples_split=5, n_estimators=700; total time=  26.8s\n",
            "[CV] END max_depth=20, max_features=auto, min_samples_leaf=10, min_samples_split=5, n_estimators=700; total time=  26.0s\n",
            "[CV] END max_depth=20, max_features=auto, min_samples_leaf=10, min_samples_split=5, n_estimators=700; total time=  24.9s\n",
            "[CV] END max_depth=20, max_features=auto, min_samples_leaf=10, min_samples_split=5, n_estimators=700; total time=  25.6s\n",
            "[CV] END max_depth=20, max_features=auto, min_samples_leaf=10, min_samples_split=5, n_estimators=700; total time=  25.7s\n",
            "[CV] END max_depth=25, max_features=sqrt, min_samples_leaf=1, min_samples_split=2, n_estimators=1000; total time=  11.5s\n",
            "[CV] END max_depth=25, max_features=sqrt, min_samples_leaf=1, min_samples_split=2, n_estimators=1000; total time=  11.4s\n",
            "[CV] END max_depth=25, max_features=sqrt, min_samples_leaf=1, min_samples_split=2, n_estimators=1000; total time=  11.6s\n",
            "[CV] END max_depth=25, max_features=sqrt, min_samples_leaf=1, min_samples_split=2, n_estimators=1000; total time=  11.5s\n",
            "[CV] END max_depth=25, max_features=sqrt, min_samples_leaf=1, min_samples_split=2, n_estimators=1000; total time=  11.4s\n",
            "[CV] END max_depth=5, max_features=sqrt, min_samples_leaf=10, min_samples_split=15, n_estimators=1100; total time=   1.5s\n",
            "[CV] END max_depth=5, max_features=sqrt, min_samples_leaf=10, min_samples_split=15, n_estimators=1100; total time=   1.5s\n",
            "[CV] END max_depth=5, max_features=sqrt, min_samples_leaf=10, min_samples_split=15, n_estimators=1100; total time=   1.5s\n",
            "[CV] END max_depth=5, max_features=sqrt, min_samples_leaf=10, min_samples_split=15, n_estimators=1100; total time=   1.5s\n",
            "[CV] END max_depth=5, max_features=sqrt, min_samples_leaf=10, min_samples_split=15, n_estimators=1100; total time=   1.6s\n",
            "[CV] END max_depth=15, max_features=sqrt, min_samples_leaf=1, min_samples_split=15, n_estimators=300; total time=   1.7s\n",
            "[CV] END max_depth=15, max_features=sqrt, min_samples_leaf=1, min_samples_split=15, n_estimators=300; total time=   1.6s\n",
            "[CV] END max_depth=15, max_features=sqrt, min_samples_leaf=1, min_samples_split=15, n_estimators=300; total time=   1.7s\n",
            "[CV] END max_depth=15, max_features=sqrt, min_samples_leaf=1, min_samples_split=15, n_estimators=300; total time=   1.6s\n",
            "[CV] END max_depth=15, max_features=sqrt, min_samples_leaf=1, min_samples_split=15, n_estimators=300; total time=   1.6s\n",
            "[CV] END max_depth=5, max_features=sqrt, min_samples_leaf=2, min_samples_split=10, n_estimators=700; total time=   1.7s\n",
            "[CV] END max_depth=5, max_features=sqrt, min_samples_leaf=2, min_samples_split=10, n_estimators=700; total time=   1.7s\n",
            "[CV] END max_depth=5, max_features=sqrt, min_samples_leaf=2, min_samples_split=10, n_estimators=700; total time=   1.7s\n",
            "[CV] END max_depth=5, max_features=sqrt, min_samples_leaf=2, min_samples_split=10, n_estimators=700; total time=   1.7s\n",
            "[CV] END max_depth=5, max_features=sqrt, min_samples_leaf=2, min_samples_split=10, n_estimators=700; total time=   1.7s\n",
            "[CV] END max_depth=20, max_features=auto, min_samples_leaf=1, min_samples_split=15, n_estimators=700; total time=  35.2s\n",
            "[CV] END max_depth=20, max_features=auto, min_samples_leaf=1, min_samples_split=15, n_estimators=700; total time=  34.9s\n",
            "[CV] END max_depth=20, max_features=auto, min_samples_leaf=1, min_samples_split=15, n_estimators=700; total time=  36.2s\n",
            "[CV] END max_depth=20, max_features=auto, min_samples_leaf=1, min_samples_split=15, n_estimators=700; total time=  36.5s\n",
            "[CV] END max_depth=20, max_features=auto, min_samples_leaf=1, min_samples_split=15, n_estimators=700; total time=  36.1s\n"
          ]
        },
        {
          "data": {
            "text/plain": [
              "RandomizedSearchCV(cv=5, estimator=RandomForestRegressor(), n_jobs=1,\n",
              "                   param_distributions={'max_depth': [5, 10, 15, 20, 25, 30],\n",
              "                                        'max_features': ['auto', 'sqrt'],\n",
              "                                        'min_samples_leaf': [1, 2, 5, 10],\n",
              "                                        'min_samples_split': [2, 5, 10, 15,\n",
              "                                                              100],\n",
              "                                        'n_estimators': [100, 200, 300, 400,\n",
              "                                                         500, 600, 700, 800,\n",
              "                                                         900, 1000, 1100,\n",
              "                                                         1200]},\n",
              "                   random_state=42, scoring='neg_mean_squared_error',\n",
              "                   verbose=2)"
            ]
          },
          "execution_count": 68,
          "metadata": {},
          "output_type": "execute_result"
        }
      ],
      "source": [
        "rf_random.fit(x_train,y_train)"
      ]
    },
    {
      "cell_type": "code",
      "execution_count": null,
      "id": "44b51517",
      "metadata": {
        "id": "44b51517"
      },
      "outputs": [],
      "source": [
        "predictions=rf_random.predict(x_test)"
      ]
    },
    {
      "cell_type": "code",
      "execution_count": null,
      "id": "ccc0dd5d",
      "metadata": {
        "id": "ccc0dd5d",
        "outputId": "cc20b109-1d27-4f4f-b72d-afa0ff8cbf6d"
      },
      "outputs": [
        {
          "data": {
            "text/plain": [
              "array([ 264155.87936206,  297290.49031951,  692333.51334741,\n",
              "        332362.83664625,  270764.32951693,  415222.43440852,\n",
              "        332495.30389094,  365282.86656295,  172067.89755646,\n",
              "        172846.77370198,  728798.63458975,  284479.20014269,\n",
              "        661740.64532074,  353614.00188619,  333622.15879457,\n",
              "        757708.78969929,  475343.68888473,  564620.03193647,\n",
              "        331154.46538138,  213579.38488256,  523460.16276015,\n",
              "        378865.55060063,  390275.36207052,  372816.03667187,\n",
              "        188325.73883967,  506574.95181191,  332401.52180548,\n",
              "        264155.87936206, 1306122.9730068 ,  664135.89972593,\n",
              "        535769.61720722,  158055.46702017,  486533.05979477,\n",
              "        373282.86611012,  173316.69380474,  180136.82353865,\n",
              "        162109.43887605,  535442.72154093,  532553.53883917,\n",
              "        373282.86611012,  311447.4879707 ,  172946.63359141,\n",
              "        496994.95349837,  509838.68742001,  895308.35213007,\n",
              "        475995.74358297,  197137.10731947,  173828.34627818,\n",
              "        173404.29967587,  433575.97548416,  372816.03667187,\n",
              "        373282.86611012,  451778.51363392,  494181.86345116,\n",
              "        352894.8821865 ,  331937.92427619,  176273.56524192,\n",
              "       1753043.69491832,  240467.11355712,  326817.43330408,\n",
              "        162357.24241908,  182995.22773805,  308698.13392412,\n",
              "        357168.39054509,  466039.48941482,  331573.57503153,\n",
              "        219000.43715447,  617795.04625766,  158594.74494741,\n",
              "        374030.74196555,  192990.38984927,  757150.12836291,\n",
              "       1073398.91184256,  189282.18422919,  330791.37782378,\n",
              "        171687.95395544,  273793.9373843 ,  172441.70687654,\n",
              "        528611.2698386 ,  812271.19865389,  429166.25346905,\n",
              "        347669.9383551 ,  292992.53022704,  338972.28378876,\n",
              "        226099.1123042 , 1697102.54857067,  284479.20014269,\n",
              "        829214.14057533,  264155.87936206,  378719.45530106,\n",
              "        283842.34481502,  653264.18100119,  275542.06611189,\n",
              "        173155.25172621,  344531.64003515,  474219.69019232,\n",
              "        472332.46491644,  333622.15879457, 1217919.2363104 ,\n",
              "        302467.00311958,  332595.47622475,  573070.29644609,\n",
              "        833361.02729353,  539125.35291542,  223354.74528759,\n",
              "        355746.15505323,  444577.84303264,  214654.845627  ,\n",
              "        167365.35471331,  430149.3318356 ,  274292.42292597,\n",
              "        221537.47138304,  451778.51363392, 1112521.35591507,\n",
              "        312264.57019378,  273877.03785244,  259352.61407305,\n",
              "        270764.32951693,  331573.57503153,  168249.74312949,\n",
              "        355497.34965666,  272646.87015412,  527485.47073257,\n",
              "        480711.73257767,  221859.22039232,  373042.06030623,\n",
              "        338290.94768558,  137475.71627547,  372513.41090895,\n",
              "        448141.44215911,  373282.86611012,  338290.94768558,\n",
              "        171896.57209023,  822189.15104416,  535194.66706492,\n",
              "        338290.94768558,  279397.48482685,  331791.54421307,\n",
              "        288421.12385768,  190922.64606767,  395547.03786145,\n",
              "        940931.40881312,  534296.45971064,  655613.10448857,\n",
              "        215529.57493207,  373282.86611012,  374359.3857106 ,\n",
              "        264155.87936206,  432339.58360341,  634301.50202977,\n",
              "        414213.12875324,  618973.21523135,  362754.85993663,\n",
              "        530217.38294069,  675868.68621399,  138026.27073161,\n",
              "        300144.87797083, 3544302.03207654,  773743.92625214,\n",
              "        167909.60219692,  206078.54476235,  171687.95395544,\n",
              "        395031.64786145,  255001.00013476,  616567.01613116,\n",
              "        274097.22150536,  332605.20257575,  173155.25172621,\n",
              "        284479.20014269,  176273.56524192,  265192.20658817,\n",
              "        331482.99343256,  471897.83418949,  374359.3857106 ,\n",
              "        373079.83414958,  474219.69019232,  172846.77370198,\n",
              "        225636.35932289,  373079.83414958,  835148.90482875,\n",
              "        498097.5936979 ,  275084.90536418,  332207.55419048,\n",
              "        975341.10029914,  844823.77221618,  378865.55060063,\n",
              "        373282.86611012,  530217.38294069,  665918.75680285,\n",
              "        191665.2896785 ,  949207.25132721,  498097.5936979 ,\n",
              "        806354.55963284,  183879.82598774,  171896.57209023,\n",
              "        344347.1579392 ,  219347.71877363,  572034.98570016,\n",
              "        261876.24640882,  371929.91193541,  193833.06945041,\n",
              "        505473.12578641,  560445.49027549, 1211581.7684259 ,\n",
              "        372226.42578031,  251775.78121272,  398569.54308536,\n",
              "        159217.95609771,  220362.95491078,  254429.20527124,\n",
              "        712564.57111662,  254180.27843476,  188573.68753744,\n",
              "        833361.02729353,  173155.25172621,  332401.52180548,\n",
              "        173404.29967587,  284479.20014269,  897531.84217221,\n",
              "        424737.11967011,  509522.27854077,  666516.89062752,\n",
              "        173155.25172621,  173491.64507744,  295850.79209987,\n",
              "        628492.64515151,  173782.1873052 ,  376045.27376722,\n",
              "        171896.57209023,  335402.74332369,  188325.73883967,\n",
              "       1196732.0481421 ,  339151.84060114,  631562.22365225,\n",
              "        633375.4431334 ,  259352.61407305,  338290.94768558,\n",
              "        545165.56290803,  414393.78215677,  232457.29650608,\n",
              "        338290.94768558,  517009.42297825,  508772.0680509 ,\n",
              "        288421.12385768,  213206.92852827,  409691.84789899,\n",
              "        661740.64532074,  544870.57188783,  347731.9712649 ,\n",
              "       1650002.53895565,  378398.82799944,  330047.51602822,\n",
              "        506574.95181191,  506574.95181191,  497769.59702351,\n",
              "       1198973.01691185,  332401.52180548,  474200.82833983,\n",
              "        372725.79364366,  372820.33935665, 1376142.27294349,\n",
              "        140693.45588381,  259352.61407305,  173155.25172621,\n",
              "        451778.51363392,  263910.60533117,  158594.74494741,\n",
              "        509003.82650187,  373310.63239897,  174347.12818129,\n",
              "        278937.99494945,  930081.8708656 ,  173155.25172621,\n",
              "        559217.06506551,  357282.57854303,  169483.46569302,\n",
              "        766618.51982047,  619412.24934307, 1697102.54857067,\n",
              "        574575.02568221,  412763.31547718,  173155.25172621,\n",
              "        264155.87936206,  506574.95181191,  693325.54617048,\n",
              "        534296.45971064, 1553986.44822567,  162439.43267916,\n",
              "        399881.03543068,  507202.87991777,  641789.59073223,\n",
              "        498049.1655489 ,  356492.97945075,  257663.06346529,\n",
              "        172441.70687654,  477890.9077903 ,  373310.63239897,\n",
              "        506574.95181191,  596590.27190048,  162518.68449761,\n",
              "        259352.61407305,  525341.04988593,  536330.4201163 ,\n",
              "        506694.73533525,  215241.2250021 ,  171896.57209023,\n",
              "        332404.97393741,  595765.91840072,  430540.56347764,\n",
              "        378865.55060063,  661740.64532074,  507214.13897089,\n",
              "        176273.56524192,  475343.68888473,  513216.56541413,\n",
              "        195135.09937078,  493268.84887688,  378865.55060063,\n",
              "        922057.12829449,  173275.03192562,  172846.77370198,\n",
              "        168249.74312949, 1068019.8572699 ,  355746.15505323,\n",
              "       1016489.88951443,  412915.34783442,  475343.68888473,\n",
              "        244763.20774362, 3544302.03207654,  169483.46569302,\n",
              "        494827.67488007,  862891.97587484,  286390.90573604,\n",
              "       1093242.5183716 ,  395584.31572912,  506024.75402351,\n",
              "        537546.94209555,  491786.34937157,  244763.20774362,\n",
              "        301765.72153316,  491296.36472575,  284479.20014269,\n",
              "        571350.70082914,  367913.00454955,  537014.79255031,\n",
              "        158594.74494741,  392527.91092628,  256649.82392879,\n",
              "        405230.08885002,  345174.38492961,  283697.86847165,\n",
              "        631058.05135172,  664135.89972593,  624219.22291747,\n",
              "        231820.9599842 ,  172846.77370198,  141070.03120159,\n",
              "        595765.91840072,  171359.56351143,  372725.79364366,\n",
              "        129531.52353933,  521440.04724567,  355326.14917291,\n",
              "        188325.73883967,  370731.49595223, 1700515.95154069,\n",
              "        757150.12836291,  536222.64995407,  288421.12385768,\n",
              "        572034.98570016,  271783.20760578,  173782.1873052 ,\n",
              "        259352.61407305,  172846.77370198,  571298.59314284,\n",
              "        264155.87936206,  167909.60219692,  904220.07474367,\n",
              "        359998.15603722, 2584695.67440107,  434708.0010525 ,\n",
              "        284225.51878846,  212553.56273383,  332703.89267862,\n",
              "        394249.79229501,  154999.07633118,  333622.15879457,\n",
              "        378865.55060063,  458820.38593552,  266748.32922336,\n",
              "        357797.4697268 ,  215554.05176829,  523321.35002805,\n",
              "        378865.55060063,  172846.77370198,  162357.24241908,\n",
              "        373282.86611012,  162650.51913383,  250891.45379327,\n",
              "        187700.97303691,  640651.94262855,  291725.80323511,\n",
              "        213206.92852827,  158594.74494741,  331937.92427619,\n",
              "        261972.51609891,  162357.24241908,  332401.52180548,\n",
              "        432339.58360341,  270764.32951693,  171687.95395544,\n",
              "        693325.54617048,  451778.51363392,  693325.54617048,\n",
              "        188325.73883967,  536330.4201163 ,  571350.70082914,\n",
              "        334617.29172873,  633375.4431334 ,  165887.88054503,\n",
              "        373453.06384467,  947711.87965983,  206264.12225044,\n",
              "        206270.7786134 ,  374359.3857106 ,  620386.02934657,\n",
              "        618935.49230745,  451778.51363392,  172067.89755646,\n",
              "        378865.55060063,  374359.3857106 ,  173782.1873052 ,\n",
              "        199663.6717787 ,  537014.79255031, 1105550.36122087,\n",
              "        172441.70687654,  528017.0321213 ,  245327.65952727,\n",
              "        274146.10754177,  213206.92852827,  170802.03753755,\n",
              "        355746.15505323, 1264537.84872523,  172441.70687654,\n",
              "        273028.67207181,  270764.32951693,  373453.06384467,\n",
              "        261544.73777637,  762496.96920827,  169019.03330411,\n",
              "        633375.4431334 ,  207797.29952753,  128849.73543405,\n",
              "        168441.99077629,  205714.57381804,  664135.89972593,\n",
              "        158594.74494741,  171896.57209023,  279697.65639893,\n",
              "        371241.23930561,  647939.70961787,  975341.10029914,\n",
              "        500817.46497225,  488502.89937703, 3544302.03207654,\n",
              "       1013546.65374299,  374359.3857106 ,  286390.90573604,\n",
              "        280750.02810351,  490968.56631667,  254850.19658594,\n",
              "        282832.45125883,  250891.45379327,  140923.29008398,\n",
              "        372816.03667187,  490579.63804194,  337335.01756697,\n",
              "        259352.61407305,  489661.43320782,  624219.22291747,\n",
              "        332666.21332889, 4913360.91507713,  311252.58168648,\n",
              "        212790.23795787,  492313.8359327 , 1045886.61199997,\n",
              "        264155.87936206,  372725.79364366,  475611.85605454,\n",
              "        284479.20014269,  331482.99343256,  819952.52479751,\n",
              "        382675.95483548,  332401.52180548,  377513.84426639,\n",
              "        536330.4201163 ,  489661.43320782,  284479.20014269,\n",
              "        377945.71438691,  506574.95181191,  525341.04988593,\n",
              "        275856.86785384,  354896.32838053, 1032445.80605715,\n",
              "        509838.68742001, 1314994.15252689,  188013.33911079,\n",
              "        374359.3857106 ,  621056.30661172,  201555.90553113,\n",
              "        475127.29570567,  337634.17650484,  192043.21646224,\n",
              "        158055.46702017,  173155.25172621,  620386.02934657,\n",
              "        332207.55419048,  421168.95353643,  169483.46569302,\n",
              "       1013893.25052749,  395031.64786145,  656432.04585343,\n",
              "        393918.01631662,  333622.15879457,  648019.43304364,\n",
              "        273028.67207181,  402023.73621789,  138287.21552937,\n",
              "        293745.08268268,  655389.84211597,  190602.10229116,\n",
              "        566412.97706354,  608473.6860239 ,  138287.21552937,\n",
              "        389370.70681166,  893293.9849156 ,  847744.01261593,\n",
              "        636040.16494646,  331482.99343256, 1829476.86214204,\n",
              "        393928.10045737, 1112521.35591507,  254850.19658594,\n",
              "        219138.43275357,  268217.05115835,  259352.61407305,\n",
              "        412681.56682044,  195346.52261223,  188325.73883967,\n",
              "        479813.54801306,  623560.46160911,  521374.07993711,\n",
              "        264155.87936206,  509605.33500593,  618973.21523135,\n",
              "        267312.98890159,  186978.64461479,  284330.11110801,\n",
              "        375974.1483398 ,  264155.87936206,  271240.22460055,\n",
              "        744172.40404884,  347918.74375167,  211123.36152486,\n",
              "        287316.51311384,  378865.55060063,  355746.15505323,\n",
              "       1097012.80045186,  536330.4201163 ,  375974.1483398 ,\n",
              "       3023340.00308556, 1217919.2363104 ,  416964.663654  ,\n",
              "        475343.68888473,  331573.57503153, 1035853.83032931,\n",
              "        508318.06004309,  505473.12578641,  371573.25327325,\n",
              "        624219.22291747,  388215.21688915,  374669.73382263,\n",
              "        459432.01028541,  732432.11750417,  265572.23047868,\n",
              "        174436.21271164,  331482.99343256,  376167.21772598,\n",
              "        188325.73883967,  167909.60219692,  269953.27034052,\n",
              "        331219.90463758,  259352.61407305,  173155.25172621,\n",
              "        332207.55419048,  207797.29952753,  270129.75801651,\n",
              "        701262.31281913,  633375.4431334 ,  273028.67207181,\n",
              "        329438.11140929,  572034.98570016,  475181.22864664,\n",
              "        205771.49143372,  395031.64786145,  188325.73883967,\n",
              "        620386.02934657,  172846.77370198,  272457.86277168,\n",
              "        199694.41092266,  244724.80096728,  213845.0612993 ,\n",
              "        347918.74375167,  494928.24493752,  213771.29612366,\n",
              "        692491.47113346,  373042.06030623,  416964.663654  ,\n",
              "        277743.94056978,  572034.98570016,  176448.64448031,\n",
              "        154848.96677074, 1066060.13213888,  595765.91840072,\n",
              "        579129.29109449, 1028687.35432308,  757150.12836291,\n",
              "        259251.230454  ,  332401.52180548,  355746.15505323,\n",
              "        344307.30266463,  259273.88576856,  355746.15505323,\n",
              "        274311.34848949,  276735.12185736,  220971.44266464,\n",
              "        140835.71694635,  205911.61421987,  521440.04724567,\n",
              "        491044.50751796,  173155.25172621,  674206.8340905 ,\n",
              "       3181104.99654788,  167024.16912117,  490968.56631667,\n",
              "        527554.89128016,  348838.33111498,  879768.6421826 ,\n",
              "        259482.32687538,  833361.02729353,  517009.42297825,\n",
              "        403463.88716467,  412681.56682044,  489661.43320782,\n",
              "        395203.76993112,  144939.677942  ,  206078.54476235,\n",
              "        834766.13582167,  259728.03330408,  264155.87936206,\n",
              "        278291.8975036 ,  373282.86611012,  206295.05608566,\n",
              "        331573.57503153,  655389.84211597,  175608.16893303,\n",
              "        223914.65842676,  373310.63239897,  332401.52180548,\n",
              "        507451.94274007,  393687.43167022,  263767.41869192,\n",
              "        395031.64786145,  373879.77119008,  274009.30213116,\n",
              "        355523.6275807 ,  188325.73883967,  333622.15879457,\n",
              "        264155.87936206,  355746.15505323,  195559.93761756,\n",
              "        694457.89948206,  227691.13619937,  167351.50261621,\n",
              "        172846.77370198,  359859.96087364,  212562.62488198,\n",
              "        373879.77119008,  373453.06384467,  145920.79707784,\n",
              "        274097.22150536,  332401.52180548,  287237.75449332,\n",
              "        168931.69380066,  172846.77370198,  828122.18198509,\n",
              "        489661.43320782,  758604.17966558,  259989.85531493,\n",
              "        624219.22291747,  172441.70687654,  359519.10474518,\n",
              "       1497662.04720766, 1237744.56748476,  161489.60256738,\n",
              "        264155.87936206,  284479.20014269,  173404.29967587,\n",
              "        378865.55060063,  373282.86611012,  422715.63785257,\n",
              "        260211.27528487,  395031.64786145, 2876197.87986129,\n",
              "        285891.19750426,  390789.61280768,  477603.41450252,\n",
              "        138856.75029755,  192427.25744441,  169019.03330411,\n",
              "        328667.57595203,  140923.29008398, 1089487.24434272,\n",
              "        509522.27854077,  566869.38264962,  212167.03768989,\n",
              "        545169.34531157,  404339.37798748,  572002.24314433,\n",
              "       1829476.86214204,  166579.46822868,  311252.58168648,\n",
              "        475575.11000916,  355746.15505323,  417750.11507941,\n",
              "        259352.61407305,  420821.90444286,  397906.13983282,\n",
              "        172668.00671192,  281029.07823338,  259352.61407305,\n",
              "        378865.55060063,  325784.41833383,  275833.21396173,\n",
              "        332495.30389094,  506574.95181191, 2398627.09925445,\n",
              "        537014.79255031,  461793.91804893,  349026.78803135,\n",
              "        512918.2889398 ,  469961.24071155,  163708.75099074,\n",
              "       1553986.44822567,  558439.4060491 ,  213206.92852827,\n",
              "        533405.34275441,  169019.03330411,  572428.4361778 ,\n",
              "        195455.37010668,  129286.5931518 ,  158594.74494741,\n",
              "        374680.17064011,  140974.37851935,  476903.2523429 ,\n",
              "        331482.99343256,  162357.24241908,  465799.98943977,\n",
              "        354896.32838053,  618498.94077545,  333622.15879457,\n",
              "        296203.58594989,  184180.40240012,  169019.03330411,\n",
              "        481970.95337359,  154999.07633118,  331154.46538138,\n",
              "        373310.63239897,  506574.95181191,  284479.20014269,\n",
              "        507334.71516732,  350342.65027022,  167909.60219692,\n",
              "        466385.01583939,  871197.51856368,  537014.79255031,\n",
              "       1163736.98251642, 1504734.20447728,  309771.15889147,\n",
              "        261544.73777637,  606347.78252842,  129531.52353933,\n",
              "        395370.40906199,  331154.46538138,  375585.04279021,\n",
              "        489661.43320782,  173155.25172621,  172846.77370198,\n",
              "        489661.43320782,  372816.03667187,  503326.60683913,\n",
              "       1058689.00966945,  373461.74653262,  638948.95040701,\n",
              "       3544302.03207654,  458820.38593552,  375974.1483398 ,\n",
              "        489661.43320782,  499061.25616887,  193586.27489621,\n",
              "        167909.60219692,  245415.89257234,  535459.7618546 ,\n",
              "        171896.57209023,  616777.9528201 , 4913360.91507713,\n",
              "        202041.06037334,  465137.55701542,  167786.14026758,\n",
              "        509838.68742001,  284479.20014269,  690824.39844312,\n",
              "        477414.19647567,  250891.45379327, 2584695.67440107,\n",
              "        664135.89972593,  373310.63239897,  285851.87210744,\n",
              "        498049.1655489 ,  140077.24091632,  469961.24071155,\n",
              "        170351.83285141,  264155.87936206,  206078.54476235,\n",
              "        270764.32951693,  305878.1774623 ,  192638.97915878,\n",
              "        391664.4625919 ,  173782.1873052 ,  166213.30302656,\n",
              "        477890.9077903 ,  694704.39446431,  157639.76982258,\n",
              "        261544.73777637,  374359.3857106 ,  172846.77370198,\n",
              "        377945.71438691,  264373.95112371,  381178.77231713,\n",
              "        394818.56715088,  904775.50375587,  168413.07584657,\n",
              "        213206.92852827, 4913360.91507713,  373879.77119008,\n",
              "        195204.67447534,  223858.97326414,  390766.18329157,\n",
              "        330791.37782378,  393547.59783689,  250891.45379327,\n",
              "        254850.19658594,  391422.76677532,  373282.86611012,\n",
              "        473662.54619555,  175117.35675859,  292721.62945401,\n",
              "        508318.06004309])"
            ]
          },
          "execution_count": 70,
          "metadata": {},
          "output_type": "execute_result"
        }
      ],
      "source": [
        "predictions"
      ]
    },
    {
      "cell_type": "code",
      "execution_count": null,
      "id": "f04ad60a",
      "metadata": {
        "id": "f04ad60a",
        "outputId": "7f13c9c7-ea1b-41f2-8ac1-21068f17e892"
      },
      "outputs": [
        {
          "data": {
            "text/plain": [
              "<AxesSubplot:xlabel='selling_price', ylabel='Density'>"
            ]
          },
          "execution_count": 71,
          "metadata": {},
          "output_type": "execute_result"
        },
        {
          "data": {
            "image/png": "[encoded data removed]",
            "text/plain": [
              "<Figure size 640x480 with 1 Axes>"
            ]
          },
          "metadata": {},
          "output_type": "display_data"
        }
      ],
      "source": [
        "sns.distplot(y_test-predictions)"
      ]
    },
    {
      "cell_type": "code",
      "execution_count": null,
      "id": "733a7cbf",
      "metadata": {
        "id": "733a7cbf",
        "outputId": "e228fabc-6aee-4173-b75b-0b9111244b4f"
      },
      "outputs": [
        {
          "data": {
            "text/plain": [
              "<matplotlib.collections.PathCollection at 0x1ef5c2bcfa0>"
            ]
          },
          "execution_count": 72,
          "metadata": {},
          "output_type": "execute_result"
        },
        {
          "data": {
            "image/png": "[encoded data removed]",
            "text/plain": [
              "<Figure size 640x480 with 1 Axes>"
            ]
          },
          "metadata": {},
          "output_type": "display_data"
        }
      ],
      "source": [
        "plt.scatter(y_test,predictions)"
      ]
    },
    {
      "cell_type": "code",
      "execution_count": null,
      "id": "d96920f2",
      "metadata": {
        "id": "d96920f2"
      },
      "outputs": [],
      "source": [
        "import pickle\n",
        "file = open('random_forest_regression_model.pkl','wb')\n",
        "pickle.dump(rf_random,file)"
      ]
    },
    {
      "cell_type": "code",
      "execution_count": null,
      "id": "fdba3946",
      "metadata": {
        "id": "fdba3946"
      },
      "outputs": [],
      "source": []
    },
    {
      "cell_type": "code",
      "execution_count": null,
      "id": "ea800094",
      "metadata": {
        "id": "ea800094"
      },
      "outputs": [],
      "source": []
    },
    {
      "cell_type": "code",
      "execution_count": null,
      "id": "55672f33",
      "metadata": {
        "id": "55672f33"
      },
      "outputs": [],
      "source": []
    },
    {
      "cell_type": "code",
      "execution_count": null,
      "id": "7a4f06ef",
      "metadata": {
        "id": "7a4f06ef"
      },
      "outputs": [],
      "source": []
    },
    {
      "cell_type": "code",
      "execution_count": null,
      "id": "92b4a8fe",
      "metadata": {
        "id": "92b4a8fe"
      },
      "outputs": [],
      "source": []
    },
    {
      "cell_type": "code",
      "execution_count": null,
      "id": "30804749",
      "metadata": {
        "id": "30804749"
      },
      "outputs": [],
      "source": []
    }
  ],
  "metadata": {
    "kernelspec": {
      "display_name": "Python 3 (ipykernel)",
      "language": "python",
      "name": "python3"
    },
    "language_info": {
      "codemirror_mode": {
        "name": "ipython",
        "version": 3
      },
      "file_extension": ".py",
      "mimetype": "text/x-python",
      "name": "python",
      "nbconvert_exporter": "python",
      "pygments_lexer": "ipython3",
      "version": "3.9.15"
    },
    "colab": {
      "provenance": [],
      "include_colab_link": true
    }
  },
  "nbformat": 4,
  "nbformat_minor": 5
}